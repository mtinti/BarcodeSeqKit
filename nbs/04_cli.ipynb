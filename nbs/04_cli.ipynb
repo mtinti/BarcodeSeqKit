{
 "cells": [
  {
   "cell_type": "markdown",
   "metadata": {},
   "source": [
    "# Command-Line Interface\n",
    "\n",
    "> Command-line tools for barcode extraction and processing"
   ]
  },
  {
   "cell_type": "markdown",
   "metadata": {},
   "source": [
    "## Introduction\n",
    "This notebook implements the command-line interface (CLI) for BarcodeSeqKit, allowing users to easily extract barcodes from BAM and FASTQ files without writing Python code."
   ]
  },
  {
   "cell_type": "code",
   "execution_count": null,
   "metadata": {},
   "outputs": [],
   "source": [
    "#| default_exp cli"
   ]
  },
  {
   "cell_type": "code",
   "execution_count": null,
   "metadata": {},
   "outputs": [],
   "source": [
    "#| hide\n",
    "from nbdev.showdoc import *"
   ]
  },
  {
   "cell_type": "code",
   "execution_count": null,
   "metadata": {},
   "outputs": [],
   "source": [
    "#| export\n",
    "import os\n",
    "import re\n",
    "import sys\n",
    "import logging\n",
    "import argparse\n",
    "from typing import List, Dict, Tuple, Optional, Union\n",
    "import yaml\n",
    "\n",
    "from BarcodeSeqKit.core import (\n",
    "    BarcodeConfig, \n",
    "    BarcodeLocationType,\n",
    "    BarcodeExtractorConfig,\n",
    "    FileFormat\n",
    ")\n",
    "from BarcodeSeqKit.bam_processing import process_bam_file\n",
    "from BarcodeSeqKit.fastq_processing import process_fastq_files"
   ]
  },
  {
   "cell_type": "markdown",
   "metadata": {},
   "source": [
    "## Command-Line Argument Parser\n",
    "Let's define the argument parser for the command-line interface."
   ]
  },
  {
   "cell_type": "code",
   "execution_count": null,
   "metadata": {},
   "outputs": [],
   "source": [
    "#| export\n",
    "def add_extract_arguments(parser: argparse.ArgumentParser):\n",
    "    \"\"\"Add arguments for the extract command.\n",
    "    \n",
    "    Args:\n",
    "        parser: ArgumentParser to add arguments to\n",
    "    \"\"\"\n",
    "    # Input files (required)\n",
    "    input_group = parser.add_argument_group('Input options')\n",
    "    \n",
    "    # Input can be specified in different ways\n",
    "    input_mutex = input_group.add_mutually_exclusive_group(required=True)\n",
    "    \n",
    "    input_mutex.add_argument(\n",
    "        '--bam',\n",
    "        help='Input BAM file'\n",
    "    )\n",
    "    \n",
    "    input_mutex.add_argument(\n",
    "        '--fastq1',\n",
    "        help='Input FASTQ file (read 1 for paired-end data)'\n",
    "    )\n",
    "    \n",
    "    input_mutex.add_argument(\n",
    "        '--fastq-dir',\n",
    "        help='Directory containing paired FASTQ files'\n",
    "    )\n",
    "    \n",
    "    # When specifying fastq1, fastq2 is optional\n",
    "    input_group.add_argument(\n",
    "        '--fastq2',\n",
    "        help='Input FASTQ file (read 2 for paired-end data, required if --fastq1 is used)'\n",
    "    )\n",
    "    \n",
    "    # Barcode configuration (required)\n",
    "    barcode_group = parser.add_argument_group('Barcode options')\n",
    "    \n",
    "    barcode_mutex = barcode_group.add_mutually_exclusive_group(required=True)\n",
    "    \n",
    "    barcode_mutex.add_argument(\n",
    "        '--barcode-config',\n",
    "        help='YAML file containing barcode configurations'\n",
    "    )\n",
    "    \n",
    "    barcode_mutex.add_argument(\n",
    "        '--barcode',\n",
    "        help='Single barcode sequence (no specific location, will generate barcode_orientFR and barcode_orientRC outputs)'\n",
    "    )\n",
    "    \n",
    "    barcode_mutex.add_argument(\n",
    "        '--barcode5',\n",
    "        help=\"5' barcode sequence (will generate barcode5_orientFR and barcode5_orientRC outputs)\"\n",
    "    )\n",
    "    \n",
    "    barcode_group.add_argument(\n",
    "        '--barcode3',\n",
    "        help=\"3' barcode sequence (will generate barcode3_orientFR and barcode3_orientRC outputs, can be used with --barcode5)\"\n",
    "    )\n",
    "    \n",
    "    barcode_group.add_argument(\n",
    "        '--max-mismatches',\n",
    "        type=int,\n",
    "        default=0,\n",
    "        help='Maximum number of mismatches allowed in barcode detection (default: 0)'\n",
    "    )\n",
    "    \n",
    "    # Output options\n",
    "    output_group = parser.add_argument_group('Output options')\n",
    "    \n",
    "    output_group.add_argument(\n",
    "        '--output-prefix',\n",
    "        required=True,\n",
    "        help='Prefix for output files'\n",
    "    )\n",
    "    \n",
    "    output_group.add_argument(\n",
    "        '--output-dir',\n",
    "        default='.',\n",
    "        help='Directory for output files (default: current directory)'\n",
    "    )\n",
    "    \n",
    "    # Add the new option below the other output options\n",
    "    output_group.add_argument(\n",
    "        '--only-stats',\n",
    "        action='store_true',\n",
    "        help='Generate only statistics without writing output sequence files'\n",
    "    )   \n",
    "    \n",
    "    \n",
    "    # Processing options for BAM files\n",
    "    bam_group = parser.add_argument_group('BAM-specific options')\n",
    "    \n",
    "    bam_group.add_argument(\n",
    "        '--search-softclipped',\n",
    "        action='store_true',\n",
    "        default=False,\n",
    "        help='Search for barcodes in softclipped read region (BAM only)'\n",
    "    )\n",
    "    \n",
    "    # Processing options for FASTQ files\n",
    "    fastq_group = parser.add_argument_group('FASTQ-specific options')\n",
    "    \n",
    "    fastq_group.add_argument(\n",
    "        '--search-both-reads',\n",
    "        action='store_true',\n",
    "        default=True,\n",
    "        help='Search for barcodes in both reads of paired-end data (FASTQ only)'\n",
    "    )\n",
    "    \n",
    "    fastq_group.add_argument(\n",
    "        '--no-compress',\n",
    "        action='store_true',\n",
    "        help='Do not compress output FASTQ files (FASTQ only)'\n",
    "    )\n",
    "    \n",
    "    # Logging options\n",
    "    logging_group = parser.add_argument_group('Logging options')\n",
    "    \n",
    "    logging_group.add_argument(\n",
    "        '--verbose',\n",
    "        action='store_true',\n",
    "        help='Enable verbose logging'\n",
    "    )\n",
    "    \n",
    "    logging_group.add_argument(\n",
    "        '--log-file',\n",
    "        help='Log file path'\n",
    "    )\n",
    "    \n",
    "    return parser"
   ]
  },
  {
   "cell_type": "markdown",
   "metadata": {},
   "source": [
    "## Main Entry Points"
   ]
  },
  {
   "cell_type": "code",
   "execution_count": null,
   "metadata": {},
   "outputs": [],
   "source": [
    "#| export\n",
    "def run_cli(args: Optional[List[str]] = None) -> int:\n",
    "    \"\"\"Handle the extract command.\n",
    "    \n",
    "    Args:\n",
    "        args: Command-line arguments\n",
    "        \n",
    "    Returns:\n",
    "        Exit code (0 for success, non-zero for error)\n",
    "    \"\"\"\n",
    "    parser = argparse.ArgumentParser(\n",
    "        description=\"BarcodeSeqKit: A toolkit for barcode extraction from sequencing data\",\n",
    "        formatter_class=argparse.RawDescriptionHelpFormatter\n",
    "    )   \n",
    "    \n",
    "    parser = add_extract_arguments(parser)\n",
    "    \n",
    "    try:\n",
    "        parsed_args = parser.parse_args(args)\n",
    "        \n",
    "        # Create output directory if it doesn't exist\n",
    "        os.makedirs(parsed_args.output_dir, exist_ok=True)\n",
    "        \n",
    "        # Determine the input file format and paths\n",
    "        input_files = []\n",
    "        \n",
    "        if parsed_args.bam:\n",
    "            input_files = [parsed_args.bam]\n",
    "            file_format = FileFormat.BAM\n",
    "            print(f\"Input BAM file: {parsed_args.bam}\")\n",
    "        elif parsed_args.fastq1:\n",
    "            if parsed_args.fastq2:\n",
    "                input_files = [parsed_args.fastq1, parsed_args.fastq2]\n",
    "                print(f\"Input FASTQ files: {parsed_args.fastq1}, {parsed_args.fastq2}\")\n",
    "            else:\n",
    "                input_files = [parsed_args.fastq1]\n",
    "                print(f\"Input FASTQ file: {parsed_args.fastq1}\")\n",
    "            file_format = FileFormat.FASTQ\n",
    "        elif parsed_args.fastq_dir:\n",
    "            input_files = [parsed_args.fastq_dir]\n",
    "            file_format = FileFormat.FASTQ\n",
    "            print(f\"Input FASTQ directory: {parsed_args.fastq_dir}\")\n",
    "        \n",
    "        # Load or create barcode configurations\n",
    "        barcodes = []\n",
    "        \n",
    "        if parsed_args.barcode_config:\n",
    "            # Load from YAML file\n",
    "            with open(parsed_args.barcode_config, 'r') as f:\n",
    "                config_data = yaml.safe_load(f)\n",
    "            \n",
    "            if 'barcodes' in config_data:\n",
    "                for barcode_data in config_data['barcodes']:\n",
    "                    location = BarcodeLocationType(barcode_data.get('location', 'UNK'))\n",
    "                    barcodes.append(BarcodeConfig(\n",
    "                        sequence=barcode_data['sequence'],\n",
    "                        location=location,\n",
    "                        name=barcode_data.get('name'),\n",
    "                        description=barcode_data.get('description')\n",
    "                    ))\n",
    "            else:\n",
    "                print(\"Error: Invalid barcode configuration file\")\n",
    "                return 1\n",
    "        else:\n",
    "            # Create from command-line arguments\n",
    "            if parsed_args.barcode:\n",
    "                # Single barcode mode (no specific location)\n",
    "                barcodes.append(BarcodeConfig(\n",
    "                    sequence=parsed_args.barcode,\n",
    "                    location=BarcodeLocationType.UNKNOWN,\n",
    "                    name=\"generic\",\n",
    "                    description=\"Generic barcode from command line\"\n",
    "                ))\n",
    "                print(f\"Using single barcode mode with sequence: {parsed_args.barcode}\")\n",
    "            elif parsed_args.barcode5:\n",
    "                barcodes.append(BarcodeConfig(\n",
    "                    sequence=parsed_args.barcode5,\n",
    "                    location=BarcodeLocationType.FIVE_PRIME,\n",
    "                    name=\"5prime\",\n",
    "                    description=\"5' barcode from command line\"\n",
    "                ))\n",
    "                print(f\"Using 5' barcode with sequence: {parsed_args.barcode5}\")\n",
    "                \n",
    "                if parsed_args.barcode3:\n",
    "                    barcodes.append(BarcodeConfig(\n",
    "                        sequence=parsed_args.barcode3,\n",
    "                        location=BarcodeLocationType.THREE_PRIME,\n",
    "                        name=\"3prime\",\n",
    "                        description=\"3' barcode from command line\"\n",
    "                    ))\n",
    "                    print(f\"Using 3' barcode with sequence: {parsed_args.barcode3}\")\n",
    "            elif parsed_args.barcode3:\n",
    "                # If only barcode3 is provided without barcode5, treat as single barcode\n",
    "                barcodes.append(BarcodeConfig(\n",
    "                    sequence=parsed_args.barcode3,\n",
    "                    location=BarcodeLocationType.UNKNOWN,\n",
    "                    name=\"generic\",\n",
    "                    description=\"Generic barcode from command line (provided as barcode3)\"\n",
    "                ))\n",
    "                print(f\"Using single barcode mode with sequence: {parsed_args.barcode3} (from barcode3)\")\n",
    "        \n",
    "        # Validate that we have at least one barcode\n",
    "        if not barcodes:\n",
    "            print(\"Error: No barcode configurations provided\")\n",
    "            return 1\n",
    "        \n",
    "        # Create extractor configuration\n",
    "        config = BarcodeExtractorConfig(\n",
    "            barcodes=barcodes,\n",
    "            output_prefix=parsed_args.output_prefix,\n",
    "            output_dir=parsed_args.output_dir,\n",
    "            max_mismatches=parsed_args.max_mismatches,\n",
    "            search_softclipped=parsed_args.search_softclipped if file_format == FileFormat.BAM else False,\n",
    "            verbose=parsed_args.verbose,\n",
    "            log_file=parsed_args.log_file,\n",
    "            write_output_files=not parsed_args.only_stats  # Set to False if only_stats flag is present\n",
    "        )\n",
    "        \n",
    "        # Save the configuration for reproducibility\n",
    "        config_path = os.path.join(parsed_args.output_dir, f\"{parsed_args.output_prefix}_config.yaml\")\n",
    "        config.save_yaml(config_path)\n",
    "        print(f\"Saved configuration to {config_path}\")\n",
    "        \n",
    "        # Process files based on format\n",
    "        if file_format == FileFormat.BAM:\n",
    "            process_bam_file(config, input_files[0])\n",
    "        elif file_format == FileFormat.FASTQ:\n",
    "            process_fastq_files(\n",
    "                config=config,\n",
    "                fastq_files=input_files,\n",
    "                compress_output=not parsed_args.no_compress,\n",
    "                search_both_reads=parsed_args.search_both_reads\n",
    "            )\n",
    "        \n",
    "        print(\"Extraction complete\")\n",
    "        return 0\n",
    "        \n",
    "    except Exception as e:\n",
    "        print(f\"Error: {str(e)}\")\n",
    "        import traceback\n",
    "        traceback.print_exc()\n",
    "        return 1"
   ]
  },
  {
   "cell_type": "code",
   "execution_count": null,
   "metadata": {},
   "outputs": [],
   "source": [
    "#| export\n",
    "def main() -> int:\n",
    "    \"\"\"Main entry point for command-line execution.\"\"\"\n",
    "    # Only actually call sys.exit() when running as a script, not in tests or notebooks\n",
    "    is_notebook_or_test = 'ipykernel' in sys.modules or 'pytest' in sys.modules or 'NBDEV_TEST' in os.environ\n",
    "    # Use test arguments when in test/notebook environment\n",
    "    if is_notebook_or_test:\n",
    "        # For testing, you can add test code here\n",
    "        return 0\n",
    "    else:\n",
    "        return run_cli()"
   ]
  },
  {
   "cell_type": "code",
   "execution_count": null,
   "metadata": {},
   "outputs": [
    {
     "name": "stdout",
     "output_type": "stream",
     "text": [
      "\n",
      "CLI completed with exit code: 0\n"
     ]
    }
   ],
   "source": [
    "#| eval: false\n",
    "#| export\n",
    "if __name__ == \"__main__\":\n",
    "    # For safety, wrap in try/except to catch any SystemExit\n",
    "    try:\n",
    "        exit_code = main()\n",
    "        is_notebook_or_test = 'ipykernel' in sys.modules or 'pytest' in sys.modules or 'NBDEV_TEST' in os.environ\n",
    "        if is_notebook_or_test:\n",
    "            print(f\"\\nCLI completed with exit code: {exit_code}\")\n",
    "    except SystemExit as e:\n",
    "        # Just in case, catch any SystemExit and print instead\n",
    "        is_notebook_or_test = 'ipykernel' in sys.modules or 'pytest' in sys.modules or 'NBDEV_TEST' in os.environ\n",
    "        if is_notebook_or_test:\n",
    "            print(f\"\\nSystemExit caught with code: {e.code}\")\n",
    "        else:\n",
    "            raise            "
   ]
  },
  {
   "cell_type": "code",
   "execution_count": null,
   "metadata": {},
   "outputs": [
    {
     "name": "stderr",
     "output_type": "stream",
     "text": [
      "2025-03-24 13:59:31,992 - BarcodeSeqKit - INFO - BAM file: ../tests/test.bam (498 reads)\n",
      "2025-03-24 13:59:31,993 - BarcodeSeqKit - INFO - Output categories: ['barcode5_orientFR', 'barcode5_orientRC', 'barcode3_orientFR', 'barcode3_orientRC', 'noBarcode']\n"
     ]
    },
    {
     "name": "stdout",
     "output_type": "stream",
     "text": [
      "Input BAM file: ../tests/test.bam\n",
      "Using 5' barcode with sequence: CTGACTCCTTAAGGGCC\n",
      "Using 3' barcode with sequence: TAACTGAGGCCGGC\n",
      "Saved configuration to ../tests/cli_output/test_cli_out_config.yaml\n"
     ]
    },
    {
     "data": {
      "application/vnd.jupyter.widget-view+json": {
       "model_id": "0270c63732ee4f9eb9c35a53bcea206d",
       "version_major": 2,
       "version_minor": 0
      },
      "text/plain": [
       "Classifying reads:   0%|          | 0/498 [00:00<?, ?it/s]"
      ]
     },
     "metadata": {},
     "output_type": "display_data"
    },
    {
     "name": "stderr",
     "output_type": "stream",
     "text": [
      "2025-03-24 13:59:32,029 - BarcodeSeqKit - INFO - First pass complete: classified 18 reads\n"
     ]
    },
    {
     "data": {
      "application/vnd.jupyter.widget-view+json": {
       "model_id": "5f7acc3ddbe34f359ffa9a4810fd0957",
       "version_major": 2,
       "version_minor": 0
      },
      "text/plain": [
       "Writing reads:   0%|          | 0/498 [00:00<?, ?it/s]"
      ]
     },
     "metadata": {},
     "output_type": "display_data"
    },
    {
     "name": "stderr",
     "output_type": "stream",
     "text": [
      "2025-03-24 13:59:32,056 - BarcodeSeqKit - INFO - Sorting and indexing ../tests/cli_output/test_cli_out_barcode5_orientFR.bam\n",
      "2025-03-24 13:59:32,068 - BarcodeSeqKit - INFO - Sorting and indexing ../tests/cli_output/test_cli_out_barcode5_orientRC.bam\n",
      "2025-03-24 13:59:32,077 - BarcodeSeqKit - INFO - Sorting and indexing ../tests/cli_output/test_cli_out_barcode3_orientFR.bam\n",
      "2025-03-24 13:59:32,085 - BarcodeSeqKit - INFO - Sorting and indexing ../tests/cli_output/test_cli_out_barcode3_orientRC.bam\n",
      "2025-03-24 13:59:32,093 - BarcodeSeqKit - INFO - Sorting and indexing ../tests/cli_output/test_cli_out_noBarcode.bam\n"
     ]
    },
    {
     "name": "stdout",
     "output_type": "stream",
     "text": [
      "Extraction complete\n",
      "CLI test returned: 0\n"
     ]
    }
   ],
   "source": [
    "# Testing the CLI with example arguments\n",
    "# Note: In a real environment, these would be passed via the command line\n",
    "# Define test arguments \n",
    "test_args = [\n",
    "    \"--bam\", \"../tests/test.bam\",\n",
    "    \"--barcode5\", \"CTGACTCCTTAAGGGCC\",\n",
    "    \"--barcode3\", \"TAACTGAGGCCGGC\",\n",
    "    \"--output-prefix\", \"test_cli_out\",\n",
    "    \"--output-dir\", \"../tests/cli_output\",\n",
    "    \"--search-softclipped\",\n",
    "    \"--verbose\"\n",
    "]\n",
    "\n",
    "# Uncomment to run the test\n",
    "return_code = run_cli(test_args)\n",
    "print(f\"CLI test returned: {return_code}\")"
   ]
  },
  {
   "cell_type": "code",
   "execution_count": null,
   "metadata": {},
   "outputs": [
    {
     "name": "stderr",
     "output_type": "stream",
     "text": [
      "2025-03-24 14:02:05,410 - BarcodeSeqKit - INFO - BAM file: ../tests/test.bam (498 reads)\n",
      "2025-03-24 14:02:05,412 - BarcodeSeqKit - INFO - Output categories: ['barcode5_orientFR', 'barcode5_orientRC', 'barcode3_orientFR', 'barcode3_orientRC', 'noBarcode']\n"
     ]
    },
    {
     "name": "stdout",
     "output_type": "stream",
     "text": [
      "Input BAM file: ../tests/test.bam\n",
      "Using 5' barcode with sequence: CTGACTCCTTAAGGGCC\n",
      "Using 3' barcode with sequence: TAACTGAGGCCGGC\n",
      "Saved configuration to ../tests/cli_output_only_stats/test_cli_out_config.yaml\n"
     ]
    },
    {
     "data": {
      "application/vnd.jupyter.widget-view+json": {
       "model_id": "4079a6b4c74a4234911c7d7ba1dd9237",
       "version_major": 2,
       "version_minor": 0
      },
      "text/plain": [
       "Classifying reads:   0%|          | 0/498 [00:00<?, ?it/s]"
      ]
     },
     "metadata": {},
     "output_type": "display_data"
    },
    {
     "name": "stderr",
     "output_type": "stream",
     "text": [
      "2025-03-24 14:02:05,456 - BarcodeSeqKit - INFO - First pass complete: classified 18 reads\n"
     ]
    },
    {
     "name": "stdout",
     "output_type": "stream",
     "text": [
      "Extraction complete\n",
      "CLI test returned: 0\n"
     ]
    }
   ],
   "source": [
    "# Testing the CLI with only-stats\n",
    "# Note: In a real environment, these would be passed via the command line\n",
    "# Define test arguments \n",
    "test_args = [\n",
    "    \"--bam\", \"../tests/test.bam\",\n",
    "    \"--barcode5\", \"CTGACTCCTTAAGGGCC\",\n",
    "    \"--barcode3\", \"TAACTGAGGCCGGC\",\n",
    "    \"--output-prefix\", \"test_cli_out\",\n",
    "    \"--output-dir\", \"../tests/cli_output_only_stats\",\n",
    "    \"--search-softclipped\",\n",
    "    \"--only-stats\",\n",
    "    \"--verbose\"\n",
    "]\n",
    "\n",
    "# Uncomment to run the test\n",
    "return_code = run_cli(test_args)\n",
    "print(f\"CLI test returned: {return_code}\")"
   ]
  },
  {
   "cell_type": "markdown",
   "metadata": {},
   "source": [
    "## Command-Line Examples\n",
    "\n",
    "Here are some example command-line invocations for reference:\n"
   ]
  },
  {
   "cell_type": "markdown",
   "metadata": {},
   "source": [
    "### Example 1: Extract barcodes from a BAM file\n",
    "\n",
    "```bash\n",
    "barcodeseqkit --bam tests/test.bam --barcode5 CTGACTCCTTAAGGGCC --output-prefix barcode_extraction --output-dir results\n",
    "```\n",
    "\n",
    "### Example 2: Extract barcodes from paired FASTQ files\n",
    "\n",
    "```bash\n",
    "barcodeseqkit --fastq1 tests/test.1.fastq.gz --fastq2 tests/test.2.fastq.gz --barcode GCCTCGCGA --output-prefix fastq_results --output-dir results\n",
    "```\n",
    "\n",
    "### Extract 5' and 3' barcodes from a directory containing FASTQ files\n",
    "\n",
    "```bash\n",
    "barcodeseqkit --fastq-dir ./fastq_dir --barcode5 ACTGACTG --barcode3 GTCAGTCA --output-prefix sample_barcoded --output-dir ./output --search-both-reads\n",
    "```\n",
    "\n",
    "### Use a barcode configuration file\n",
    "\n",
    "```bash\n",
    "barcodeseqkit --bam tests/test.bam --barcode-config barcode_config.yaml --output-prefix config_extraction --output-dir results\n",
    "```\n",
    "\n",
    "## Barcode Configuration YAML Example\n",
    "\n",
    "Here's an example of a barcode configuration YAML file:\n",
    "\n",
    "```yaml\n",
    "barcodes:\n",
    "  - sequence: CTGACTCCTTAAGGGCC\n",
    "    location: 5\n",
    "    name: 5prime\n",
    "    description: 5' barcode for my experiment\n",
    "  - sequence: TAACTGAGGCCGGC\n",
    "    location: 3\n",
    "    name: 3prime\n",
    "    description: 3' barcode for my experiment\n",
    "```"
   ]
  },
  {
   "cell_type": "markdown",
   "metadata": {},
   "source": [
    "## Conclusion\n",
    "This notebook implements a command-line interface for BarcodeSeqKit, making it easy to use the library's functionality without writing Python code. The CLI provides access to all the major features of the library, including barcode extraction from BAM and FASTQ files, customization options for searching and output, and comprehensive logging."
   ]
  },
  {
   "cell_type": "code",
   "execution_count": null,
   "metadata": {},
   "outputs": [],
   "source": [
    "#| hide\n",
    "import nbdev; nbdev.nbdev_export()"
   ]
  }
 ],
 "metadata": {
  "kernelspec": {
   "display_name": "python3",
   "language": "python",
   "name": "python3"
  }
 },
 "nbformat": 4,
 "nbformat_minor": 4
}
