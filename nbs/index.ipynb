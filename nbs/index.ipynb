{
 "cells": [
  {
   "cell_type": "markdown",
   "metadata": {},
   "source": [
    "# BarcodeSeqKit\n",
    "\n",
    "> Extract and classify sequences based on barcode presence in BAM and FASTQ files\n",
    "\n",
    "## Overview\n",
    "\n",
    "BarcodeSeqKit is a streamlined Python library for extracting and classifying sequencing reads based on the presence of specific barcode sequences. Built with simplicity and flexibility in mind, it handles both BAM and FASTQ file formats with a clean, intuitive interface.\n"
   ]
  },
  {
   "cell_type": "markdown",
   "metadata": {},
   "source": [
    "### Key Features\n",
    "\n",
    "- **Simple yet powerful**: Extract barcodes from BAM or FASTQ files with minimal code\n",
    "- **Support for both file types**: Process BAM files (including softclipped regions) and FASTQ files (including paired-end data)\n",
    "- **Flexible barcode options**: Use single barcodes or specific 5'/3' combinations\n",
    "- **Orientation detection**: Identify barcodes in both forward and reverse complement orientations\n",
    "- **Fuzzy matching**: Configure allowable mismatches for barcode detection\n",
    "- **Specialized functions**: Search in softclipped regions of BAM alignments or both reads in paired FASTQ data\n",
    "- **Detailed statistics**: Get comprehensive reports on barcode matches and distribution\n"
   ]
  },
  {
   "cell_type": "markdown",
   "metadata": {},
   "source": [
    "## Regular Expression Support in Barcode Matching\n",
    "\n",
    "> BarcodeSeqKit uses Python's regular expression engine (`re` module) for exact barcode matching, which means you can leverage the full power of regular expressions in your barcode patterns. "
   ]
  },
  {
   "cell_type": "markdown",
   "metadata": {},
   "source": [
    "## Installation\n",
    "\n",
    "You can install BarcodeSeqKit using pip:\n",
    "\n",
    "```bash\n",
    "pip install barcodeseqkit\n",
    "```\n",
    "\n",
    "Or directly from the GitHub repository:\n",
    "\n",
    "```bash\n",
    "pip install git+https://github.com/username/BarcodeSeqKit.git\n",
    "```"
   ]
  },
  {
   "cell_type": "markdown",
   "metadata": {},
   "source": [
    "### Quick Start\n",
    "\n",
    "Let's dive right in with some common use cases!\n"
   ]
  },
  {
   "cell_type": "markdown",
   "metadata": {},
   "source": [
    "### Command-line Usage\n",
    "\n",
    "BarcodeSeqKit provides a simple command-line interface that makes it easy to extract barcodes without writing any code.\n",
    "\n",
    "#### Extract a Single Barcode\n",
    "\n",
    "```bash\n",
    "barcodeseqkit --bam tests/test.bam \\\n",
    "              --barcode CTGACTCCTTAAGGGCC \\\n",
    "              --output-prefix single_barcode \\\n",
    "              --output-dir results\n",
    "```\n",
    "\n",
    "This command extracts reads containing the specified barcode (in either forward or reverse complement orientation) and creates:\n",
    "- `results/single_barcode_barcode_orientFR.bam`: Forward orientation matches\n",
    "- `results/single_barcode_barcode_orientRC.bam`: Reverse complement matches\n",
    "- `results/single_barcode_extraction_stats.json`: Detailed statistics in JSON format\n",
    "- `results/single_barcode_extraction_stats.tsv`: Detailed statistics in TSV format\n"
   ]
  },
  {
   "cell_type": "markdown",
   "metadata": {},
   "source": [
    "#### Extract 5' and 3' Barcodes\n",
    "\n",
    "```bash\n",
    "barcodeseqkit --bam tests/test.bam \\\n",
    "              --barcode5 CTGACTCCTTAAGGGCC \\\n",
    "              --barcode3 TAACTGAGGCCGGC \\\n",
    "              --output-prefix dual_barcode \\\n",
    "              --output-dir results\n",
    "```\n",
    "\n",
    "This creates separate files for each barcode and orientation combination:\n",
    "- `results/dual_barcode_barcode5_orientFR.bam`\n",
    "- `results/dual_barcode_barcode5_orientRC.bam`\n",
    "- `results/dual_barcode_barcode3_orientFR.bam`\n",
    "- `results/dual_barcode_barcode3_orientRC.bam`\n"
   ]
  },
  {
   "cell_type": "markdown",
   "metadata": {},
   "source": [
    "#### Process Paired FASTQ Files\n",
    "\n",
    "```bash\n",
    "barcodeseqkit --fastq1 tests/test.1.fastq.gz \\\n",
    "              --fastq2 tests/test.2.fastq.gz \\\n",
    "              --barcode CTGACTCCTTAAGGGCC \\\n",
    "              --output-prefix fastq_extraction \\\n",
    "              --search-both-reads\n",
    "```\n",
    "This processes paired FASTQ files and creates output FASTQ files for each barcode category.\n"
   ]
  },
  {
   "cell_type": "markdown",
   "metadata": {},
   "source": [
    "\n",
    "\n",
    "### Using Regular Expression Patterns\n",
    "\n",
    "> Instead of specifying a fixed barcode sequence, you can provide a regular expression pattern:\n",
    "\n",
    "```python\n",
    "# Define a barcode with ambiguous positions\n",
    "barcode_config = BarcodeConfig(\n",
    "    sequence=\"ACGT[AT]GC[GC].TT\",\n",
    "    location=BarcodeLocationType.FIVE_PRIME,\n",
    "    name=\"5prime_variable\"\n",
    ")\n",
    "```"
   ]
  },
  {
   "cell_type": "markdown",
   "metadata": {},
   "source": [
    "### Python API Usage\n",
    "\n",
    "BarcodeSeqKit's Python API is designed to be intuitive and straightforward:\n",
    "\n",
    "```python\n",
    "from BarcodeSeqKit.core import BarcodeConfig, BarcodeLocationType, BarcodeExtractorConfig\n",
    "from BarcodeSeqKit.bam_processing import process_bam_file\n",
    "\n",
    "# Define barcodes\n",
    "barcodes = [\n",
    "    BarcodeConfig(\n",
    "        sequence=\"TAACTGAGGCCGGC\",\n",
    "        location=BarcodeLocationType.THREE_PRIME,\n",
    "        name=\"3prime\"\n",
    "    ),\n",
    "    BarcodeConfig(\n",
    "        sequence=\"CTGACTCCTTAAGGGCC\",\n",
    "        location=BarcodeLocationType.FIVE_PRIME,\n",
    "        name=\"5prime\"\n",
    "    )\n",
    "]\n",
    "\n",
    "# Create configuration\n",
    "config = BarcodeExtractorConfig(\n",
    "    barcodes=barcodes,\n",
    "    output_prefix=\"my_extraction\",\n",
    "    output_dir=\"./results\",\n",
    "    max_mismatches=0,\n",
    "    search_softclipped=True,\n",
    "    verbose=True\n",
    ")\n",
    "\n",
    "# Process BAM file\n",
    "stats = process_bam_file(config, \"tests/test.bam\")\n",
    "\n",
    "# Report results\n",
    "print(f\"Processed {stats.total_reads} reads\")\n",
    "print(f\"Found {stats.total_barcode_matches} barcode matches\")\n",
    "```\n",
    "\n",
    "or FASTQ files:\n",
    "\n",
    "```python\n",
    "from BarcodeSeqKit.fastq_processing import process_fastq_files\n",
    "\n",
    "# Use the same config as above\n",
    "fastq_files = [\"tests/test.1.fastq.gz\", \"tests/test.2.fastq.gz\"]\n",
    "stats = process_fastq_files(\n",
    "    config=config,\n",
    "    fastq_files=fastq_files,\n",
    "    compress_output=True,\n",
    "    search_both_reads=True\n",
    ")\n",
    "```"
   ]
  },
  {
   "cell_type": "markdown",
   "metadata": {},
   "source": [
    "## Key Concepts"
   ]
  },
  {
   "cell_type": "markdown",
   "metadata": {},
   "source": [
    "### Barcode Types\n",
    "\n",
    "BarcodeSeqKit supports three types of barcode configurations:\n",
    "\n",
    "1. **Generic barcodes**: Use these when you just want to find a specific sequence regardless of location\n",
    "2. **5' barcodes**: Use these when the barcode is expected at the 5' end of the sequence\n",
    "3. **3' barcodes**: Use these when the barcode is expected at the 3' end of the sequence\n"
   ]
  },
  {
   "cell_type": "markdown",
   "metadata": {},
   "source": [
    "## Barcode Orientations\n",
    "\n",
    "For each barcode, BarcodeSeqKit tracks two possible orientations:\n",
    "\n",
    "- **Forward (FR)**: The barcode appears in its specified sequence\n",
    "- **Reverse Complement (RC)**: The barcode appears as its reverse complement\n",
    "\n"
   ]
  },
  {
   "cell_type": "markdown",
   "metadata": {},
   "source": [
    "## Softclipped Regions\n",
    "\n",
    "When working with BAM files, the `--search-softclipped` option examines only the softclipped portions of reads:\n",
    "\n",
    "- For forward strand reads (+): Examines the 5' softclipped region\n",
    "- For reverse strand reads (-): Examines the 3' softclipped region\n",
    "\n",
    "This is especially useful for splice leader sequences in trypanosomatids or where barcodes are clipped during alignment.\n"
   ]
  },
  {
   "cell_type": "markdown",
   "metadata": {},
   "source": [
    "## Advanced Options\n",
    "\n",
    "### Command-Line Arguments\n",
    "\n",
    "BarcodeSeqKit offers a range of options to customize your extraction:\n",
    "\n",
    "| Option | Description |\n",
    "|--------|-------------|\n",
    "| `--max-mismatches N` | Allow up to N mismatches in barcode detection |\n",
    "| `--search-softclipped` | Search in softclipped regions (BAM only) |\n",
    "| `--search-both-reads` | Look for barcodes in both reads of paired FASTQ files |\n",
    "| `--no-compress` | Disable compression for FASTQ output files |\n",
    "| `--verbose` | Enable detailed logging |\n",
    "\n",
    "For a complete list, run `barcodeseqkit --help`."
   ]
  },
  {
   "cell_type": "markdown",
   "metadata": {},
   "source": [
    "### Barcode Configuration Files\n",
    "\n",
    "For complex projects with multiple barcodes, you can use a YAML configuration file:\n",
    "\n",
    "```yaml\n",
    "barcodes:\n",
    "  - sequence: CTGACTCCTTAAGGGCC\n",
    "    location: 5\n",
    "    name: 5prime\n",
    "    description: 5' barcode for experiment X\n",
    "  - sequence: TAACTGAGGCCGGC\n",
    "    location: 3\n",
    "    name: 3prime\n",
    "    description: 3' barcode for experiment X\n",
    "```\n",
    "\n",
    "Then use it with:\n",
    "\n",
    "```bash\n",
    "barcodeseqkit --bam test.bam --barcode-config my_barcodes.yaml --output-prefix config_extraction\n",
    "```\n",
    "\n",
    "\n",
    "> In BarcodeSeqKit, when multiple barcodes are provided, the program uses an efficient approach: it parses the input file(s) only once while searching for all barcodes simultaneously during that single pass."
   ]
  },
  {
   "cell_type": "markdown",
   "metadata": {},
   "source": [
    "## Output Files and Statistics\n",
    "\n",
    "BarcodeSeqKit generates:\n",
    "\n",
    "1. **Categorized output files**: BAM or FASTQ files containing reads matching specific barcode/orientation combinations\n",
    "2. **Statistics in JSON format**: Detailed machine-readable statistics\n",
    "3. **Statistics in TSV format**: Human-readable tabular statistics\n",
    "\n",
    "The statistics include:\n",
    "- Total number of reads processed\n",
    "- Total barcode matches found\n",
    "- Match counts by barcode type\n",
    "- Match counts by orientation\n",
    "- Match counts by category\n",
    "- Overall match rate"
   ]
  },
  {
   "cell_type": "markdown",
   "metadata": {},
   "source": [
    "## Statistics-Only Mode\n",
    "\n",
    "BarcodeSeqKit now supports a \"statistics-only\" mode that processes files and generates detailed statistics without writing output sequence files. This feature is particularly useful for:\n",
    "\n",
    "- Quickly analyzing barcode distributions in large datasets\n",
    "- Performing QC checks before committing to full processing\n",
    "- Estimating barcode frequencies without using additional disk space\n",
    "- Benchmarking and optimization tasks\n",
    "\n",
    "### Command-line Usage\n",
    "\n",
    "To use statistics-only mode from the command line, add the `--only-stats` flag:\n",
    "\n",
    "```bash\n",
    "barcodeseqkit --bam sample.bam \\\n",
    "              --barcode5 CTGACTCCTTAAGGGCC \\\n",
    "              --output-prefix quick_stats \\\n",
    "              --output-dir results \\\n",
    "              --only-stats\n",
    "```"
   ]
  },
  {
   "cell_type": "markdown",
   "metadata": {},
   "source": [
    "BarcodeSeqKit has a clean, modular design:\n",
    "\n",
    "1. **Core** (`00_core.ipynb`): Data structures and configuration\n",
    "2. **Sequence Utilities** (`01_sequence_utils.ipynb`): Barcode detection algorithms\n",
    "3. **BAM Processing** (`02_bam_processing.ipynb`): BAM file handling\n",
    "4. **FASTQ Processing** (`03_fastq_processing.ipynb`): FASTQ file handling\n",
    "5. **Command-Line Interface** (`04_cli.ipynb`): Argument parsing and execution\n",
    "\n",
    "## Real-World Example\n",
    "\n",
    "Let's walk through a practical example of extracting barcodes from the test data included with BarcodeSeqKit:"
   ]
  },
  {
   "cell_type": "code",
   "execution_count": null,
   "metadata": {},
   "outputs": [
    {
     "name": "stderr",
     "output_type": "stream",
     "text": [
      "2025-03-24 14:06:24,292 - BarcodeSeqKit - INFO - BAM file: ../tests/test.bam (498 reads)\n",
      "2025-03-24 14:06:24,293 - BarcodeSeqKit - INFO - Output categories: ['barcode3_orientFR', 'barcode3_orientRC', 'barcode5_orientFR', 'barcode5_orientRC', 'noBarcode']\n"
     ]
    },
    {
     "name": "stdout",
     "output_type": "stream",
     "text": [
      "Processing ../tests/test.bam\n"
     ]
    },
    {
     "data": {
      "application/vnd.jupyter.widget-view+json": {
       "model_id": "ac7b3ac731e64f37927ae781eea95c25",
       "version_major": 2,
       "version_minor": 0
      },
      "text/plain": [
       "Classifying reads:   0%|          | 0/498 [00:00<?, ?it/s]"
      ]
     },
     "metadata": {},
     "output_type": "display_data"
    },
    {
     "name": "stderr",
     "output_type": "stream",
     "text": [
      "2025-03-24 14:06:24,340 - BarcodeSeqKit - INFO - First pass complete: classified 18 reads\n"
     ]
    },
    {
     "data": {
      "application/vnd.jupyter.widget-view+json": {
       "model_id": "5bba8d3922a04cf29c9a3c2c321e0274",
       "version_major": 2,
       "version_minor": 0
      },
      "text/plain": [
       "Writing reads:   0%|          | 0/498 [00:00<?, ?it/s]"
      ]
     },
     "metadata": {},
     "output_type": "display_data"
    },
    {
     "name": "stderr",
     "output_type": "stream",
     "text": [
      "2025-03-24 14:06:24,411 - BarcodeSeqKit - INFO - Sorting and indexing ../tests/index_api/example_run_barcode3_orientFR.bam\n",
      "2025-03-24 14:06:24,424 - BarcodeSeqKit - INFO - Sorting and indexing ../tests/index_api/example_run_barcode3_orientRC.bam\n",
      "2025-03-24 14:06:24,433 - BarcodeSeqKit - INFO - Sorting and indexing ../tests/index_api/example_run_barcode5_orientFR.bam\n",
      "2025-03-24 14:06:24,442 - BarcodeSeqKit - INFO - Sorting and indexing ../tests/index_api/example_run_barcode5_orientRC.bam\n",
      "2025-03-24 14:06:24,450 - BarcodeSeqKit - INFO - Sorting and indexing ../tests/index_api/example_run_noBarcode.bam\n"
     ]
    },
    {
     "name": "stdout",
     "output_type": "stream",
     "text": [
      "\n",
      "Results summary:\n",
      "Total reads: 498\n",
      "Total barcode matches: 18\n",
      "Match rate: 3.61%\n",
      "  5prime: 10 matches\n",
      "  3prime: 8 matches\n",
      "  Orientation FR: 10 matches\n",
      "  Orientation RC: 8 matches\n"
     ]
    }
   ],
   "source": [
    "from BarcodeSeqKit.core import BarcodeConfig, BarcodeLocationType, BarcodeExtractorConfig\n",
    "from BarcodeSeqKit.bam_processing import process_bam_file\n",
    "import os\n",
    "\n",
    "# Define barcodes that we know are in the test data\n",
    "barcodes = [\n",
    "    BarcodeConfig(\n",
    "        sequence=\"TAACTGAGGCCGGC\",\n",
    "        location=BarcodeLocationType.THREE_PRIME,\n",
    "        name=\"3prime\"\n",
    "    ),\n",
    "    BarcodeConfig(\n",
    "        sequence=\"CTGACTCCTTAAGGGCC\",\n",
    "        location=BarcodeLocationType.FIVE_PRIME,\n",
    "        name=\"5prime\"\n",
    "    )\n",
    "]\n",
    "\n",
    "# Create configuration\n",
    "output_dir = \"../tests/index_api\"\n",
    "os.makedirs(output_dir, exist_ok=True)\n",
    "\n",
    "config = BarcodeExtractorConfig(\n",
    "    barcodes=barcodes,\n",
    "    output_prefix=\"example_run\",\n",
    "    output_dir=output_dir,\n",
    "    max_mismatches=0,\n",
    "    search_softclipped=True,\n",
    "    verbose=True\n",
    ")\n",
    "\n",
    "# Process the BAM file (if it exists)\n",
    "test_bam = \"../tests/test.bam\"\n",
    "if os.path.exists(test_bam):\n",
    "    print(f\"Processing {test_bam}\")\n",
    "    stats = process_bam_file(config, test_bam)\n",
    "    \n",
    "    # Print summary statistics\n",
    "    print(f\"\\nResults summary:\")\n",
    "    print(f\"Total reads: {stats.total_reads}\")\n",
    "    print(f\"Total barcode matches: {stats.total_barcode_matches}\")\n",
    "    \n",
    "    if stats.total_reads > 0:\n",
    "        match_rate = (stats.total_barcode_matches / stats.total_reads) * 100\n",
    "        print(f\"Match rate: {match_rate:.2f}%\")\n",
    "    \n",
    "    # Print barcode-specific statistics\n",
    "    for barcode_name, count in stats.matches_by_barcode.items():\n",
    "        print(f\"  {barcode_name}: {count} matches\")\n",
    "    \n",
    "    # Print orientation-specific statistics\n",
    "    for orientation, count in stats.matches_by_orientation.items():\n",
    "        print(f\"  Orientation {orientation}: {count} matches\")\n",
    "else:\n",
    "    print(f\"Test file not found: {test_bam}\")\n"
   ]
  },
  {
   "cell_type": "code",
   "execution_count": null,
   "metadata": {},
   "outputs": [
    {
     "name": "stderr",
     "output_type": "stream",
     "text": [
      "2025-03-24 14:07:19,200 - BarcodeSeqKit - INFO - BAM file: ../tests/test.bam (498 reads)\n",
      "2025-03-24 14:07:19,202 - BarcodeSeqKit - INFO - Output categories: ['barcode3_orientFR', 'barcode3_orientRC', 'barcode5_orientFR', 'barcode5_orientRC', 'noBarcode']\n"
     ]
    },
    {
     "data": {
      "application/vnd.jupyter.widget-view+json": {
       "model_id": "5dd455cee9fa4b329bf2c9360119feaa",
       "version_major": 2,
       "version_minor": 0
      },
      "text/plain": [
       "Classifying reads:   0%|          | 0/498 [00:00<?, ?it/s]"
      ]
     },
     "metadata": {},
     "output_type": "display_data"
    },
    {
     "name": "stderr",
     "output_type": "stream",
     "text": [
      "2025-03-24 14:07:19,259 - BarcodeSeqKit - INFO - First pass complete: classified 18 reads\n"
     ]
    },
    {
     "name": "stdout",
     "output_type": "stream",
     "text": [
      "Total reads: 498\n",
      "Total barcode matches: 18\n",
      "Match rate: 3.61%\n"
     ]
    }
   ],
   "source": [
    "config = BarcodeExtractorConfig(\n",
    "    barcodes=barcodes,\n",
    "    output_prefix=\"quick_stats\",\n",
    "    output_dir=\"../tests/quick_stats\",\n",
    "    max_mismatches=0,\n",
    "    verbose=True,\n",
    "    write_output_files=False  # Skip writing sequence files\n",
    ")\n",
    "\n",
    "# Process BAM file and get statistics only\n",
    "stats = process_bam_file(config, \"../tests/test.bam\")\n",
    "\n",
    "# Print summary\n",
    "print(f\"Total reads: {stats.total_reads}\")\n",
    "print(f\"Total barcode matches: {stats.total_barcode_matches}\")\n",
    "print(f\"Match rate: {stats.total_barcode_matches / stats.total_reads * 100:.2f}%\")"
   ]
  },
  {
   "cell_type": "code",
   "execution_count": null,
   "metadata": {},
   "outputs": [
    {
     "name": "stdout",
     "output_type": "stream",
     "text": [
      "Input BAM file: ../tests/test.bam\n",
      "Using 5' barcode with sequence: CTGACTCCTTAAGGGCC\n",
      "Using 3' barcode with sequence: TAACTGAGGCCGGC\n",
      "Saved configuration to ../tests/index_cli/dual_barcode_config.yaml\n",
      "2025-03-17 12:18:29,756 - BarcodeSeqKit - INFO - BAM file: ../tests/test.bam (498 reads)\n",
      "2025-03-17 12:18:29,756 - BarcodeSeqKit - INFO - Output categories: ['barcode5_orientFR', 'barcode5_orientRC', 'barcode3_orientFR', 'barcode3_orientRC', 'noBarcode']\n",
      "Classifying reads: 100%|███████████████████| 498/498 [00:00<00:00, 58040.55it/s]\n",
      "2025-03-17 12:18:29,810 - BarcodeSeqKit - INFO - First pass complete: classified 18 reads\n",
      "Writing reads: 100%|██████████████████████| 498/498 [00:00<00:00, 230344.44it/s]\n",
      "2025-03-17 12:18:29,816 - BarcodeSeqKit - INFO - Sorting and indexing ../tests/index_cli/dual_barcode_barcode5_orientFR.bam\n",
      "2025-03-17 12:18:29,844 - BarcodeSeqKit - INFO - Sorting and indexing ../tests/index_cli/dual_barcode_barcode5_orientRC.bam\n",
      "2025-03-17 12:18:29,856 - BarcodeSeqKit - INFO - Sorting and indexing ../tests/index_cli/dual_barcode_barcode3_orientFR.bam\n",
      "2025-03-17 12:18:29,882 - BarcodeSeqKit - INFO - Sorting and indexing ../tests/index_cli/dual_barcode_barcode3_orientRC.bam\n",
      "2025-03-17 12:18:29,894 - BarcodeSeqKit - INFO - Sorting and indexing ../tests/index_cli/dual_barcode_noBarcode.bam\n",
      "Extraction complete\n"
     ]
    }
   ],
   "source": [
    "!barcodeseqkit --bam ../tests/test.bam \\\n",
    "              --barcode5 CTGACTCCTTAAGGGCC \\\n",
    "              --barcode3 TAACTGAGGCCGGC \\\n",
    "              --output-prefix dual_barcode \\\n",
    "              --output-dir ../tests/index_cli"
   ]
  },
  {
   "cell_type": "code",
   "execution_count": null,
   "metadata": {},
   "outputs": [],
   "source": []
  },
  {
   "cell_type": "markdown",
   "metadata": {},
   "source": [
    "## Conclusion\n",
    "\n",
    "BarcodeSeqKit provides a streamlined, user-friendly approach to barcode extraction from sequencing data. With its intuitive interface and flexible options, it's suitable for a wide range of applications, from simple barcode detection to complex multi-barcode analyses.\n",
    "\n",
    "Whether you're working with BAM files, FASTQ files, single barcodes, or multiple barcodes with specific locations, BarcodeSeqKit offers a straightforward solution for your barcode extraction needs.\n",
    "\n",
    "For detailed API documentation, check out the module-specific notebooks:\n",
    "- [Core Data Structures](00_core.ipynb)\n",
    "- [Sequence Utilities](01_sequence_utils.ipynb)\n",
    "- [BAM Processing](02_bam_processing.ipynb)\n",
    "- [FASTQ Processing](03_fastq_processing.ipynb)\n",
    "- [Command-Line Interface](04_cli.ipynb)"
   ]
  },
  {
   "cell_type": "code",
   "execution_count": null,
   "metadata": {},
   "outputs": [],
   "source": [
    "#| hide\n",
    "import nbdev; nbdev.nbdev_export()"
   ]
  }
 ],
 "metadata": {
  "kernelspec": {
   "display_name": "python3",
   "language": "python",
   "name": "python3"
  }
 },
 "nbformat": 4,
 "nbformat_minor": 4
}
