{
 "cells": [
  {
   "cell_type": "markdown",
   "metadata": {},
   "source": [
    "# Sequence Utilities\n",
    "\n",
    "> Utilities for working with DNA/RNA sequences and barcode detection"
   ]
  },
  {
   "cell_type": "markdown",
   "metadata": {},
   "source": [
    "## Introduction\n",
    "This notebook contains utility functions for sequence manipulation, barcode detection, and quality assessment in the BarcodeSeqKit library. These utilities are format-agnostic and can be used with both BAM and FASTQ data."
   ]
  },
  {
   "cell_type": "code",
   "execution_count": null,
   "metadata": {},
   "outputs": [],
   "source": [
    "#| default_exp sequence_utils"
   ]
  },
  {
   "cell_type": "code",
   "execution_count": null,
   "metadata": {},
   "outputs": [],
   "source": [
    "#| hide\n",
    "from nbdev.showdoc import *"
   ]
  },
  {
   "cell_type": "code",
   "execution_count": null,
   "metadata": {},
   "outputs": [],
   "source": [
    "#| export\n",
    "import re\n",
    "import regex  # For fuzzy matching\n",
    "from typing import List, Dict, Tuple, Optional, Iterator, Set, Any, Union\n",
    "from Bio.Seq import Seq\n",
    "from BarcodeSeqKit.core import BarcodeConfig, BarcodeMatch, OrientationType, BarcodeLocationType"
   ]
  },
  {
   "cell_type": "markdown",
   "metadata": {},
   "source": [
    "## Barcode Detection\n",
    "Functions for detecting and validating barcodes in sequences."
   ]
  },
  {
   "cell_type": "code",
   "execution_count": null,
   "metadata": {},
   "outputs": [],
   "source": [
    "#| export\n",
    "import regex  # Using regex module for fuzzy matching instead of re\n",
    "\n",
    "def find_barcode_matches(\n",
    "    sequence: str, \n",
    "    barcodes: List[BarcodeConfig],\n",
    "    max_mismatches: int = 0\n",
    ") -> List[BarcodeMatch]:\n",
    "    \"\"\"Find all barcode matches in a sequence.\n",
    "    \n",
    "    Args:\n",
    "        sequence: The DNA/RNA sequence to search in\n",
    "        barcodes: List of barcode configurations to search for\n",
    "        max_mismatches: Maximum number of mismatches to allow\n",
    "        \n",
    "    Returns:\n",
    "        List of BarcodeMatch objects representing the matches found\n",
    "    \"\"\"\n",
    "    matches = []\n",
    "    \n",
    "    # Convert sequence to uppercase\n",
    "    sequence = sequence.upper()\n",
    "    \n",
    "    for barcode in barcodes:\n",
    "        # Search for forward sequence\n",
    "        if max_mismatches == 0:\n",
    "            # Exact matching with re\n",
    "            forward_positions = [m.start() for m in re.finditer(barcode.sequence, sequence)]\n",
    "            for pos in forward_positions:\n",
    "                matches.append(BarcodeMatch(\n",
    "                    barcode=barcode,\n",
    "                    orientation=OrientationType.FORWARD,\n",
    "                    position=pos,\n",
    "                    sequence=sequence[pos:pos+len(barcode.sequence)]\n",
    "                ))\n",
    "            \n",
    "            # Search for reverse complement sequence\n",
    "            rc_seq = barcode.reverse_complement\n",
    "            rc_positions = [m.start() for m in re.finditer(rc_seq, sequence)]\n",
    "            for pos in rc_positions:\n",
    "                matches.append(BarcodeMatch(\n",
    "                    barcode=barcode,\n",
    "                    orientation=OrientationType.REVERSE_COMPLEMENT,\n",
    "                    position=pos,\n",
    "                    sequence=sequence[pos:pos+len(rc_seq)]\n",
    "                ))\n",
    "        else:\n",
    "            # Fuzzy matching with regex module\n",
    "            # Forward orientation\n",
    "            pattern = f\"({barcode.sequence}){{e<={max_mismatches}}}\"\n",
    "            r = regex.compile(pattern)\n",
    "            for match in r.finditer(sequence):\n",
    "                matches.append(BarcodeMatch(\n",
    "                    barcode=barcode,\n",
    "                    orientation=OrientationType.FORWARD,\n",
    "                    position=match.start(),\n",
    "                    sequence=match.group()\n",
    "                ))\n",
    "            \n",
    "            # Reverse complement orientation\n",
    "            rc_pattern = f\"({barcode.reverse_complement}){{e<={max_mismatches}}}\"\n",
    "            rc_r = regex.compile(rc_pattern)\n",
    "            for match in rc_r.finditer(sequence):\n",
    "                matches.append(BarcodeMatch(\n",
    "                    barcode=barcode,\n",
    "                    orientation=OrientationType.REVERSE_COMPLEMENT,\n",
    "                    position=match.start(),\n",
    "                    sequence=match.group()\n",
    "                ))\n",
    "    \n",
    "    return matches"
   ]
  },
  {
   "cell_type": "markdown",
   "metadata": {},
   "source": [
    "## Sequence Manipulation"
   ]
  },
  {
   "cell_type": "code",
   "execution_count": null,
   "metadata": {},
   "outputs": [],
   "source": [
    "#| export\n",
    "def reverse_complement(sequence: str) -> str:\n",
    "    \"\"\"Return the reverse complement of a DNA sequence.\n",
    "    \n",
    "    Args:\n",
    "        sequence: DNA sequence\n",
    "        \n",
    "    Returns:\n",
    "        Reverse complement of the sequence\n",
    "    \"\"\"\n",
    "    return str(Seq(sequence).reverse_complement())"
   ]
  },
  {
   "cell_type": "code",
   "execution_count": null,
   "metadata": {},
   "outputs": [],
   "source": [
    "#| export\n",
    "def hamming_distance(seq1: str, seq2: str) -> int:\n",
    "    \"\"\"Calculate the Hamming distance between two sequences.\n",
    "    \n",
    "    The sequences must be of the same length.\n",
    "    \n",
    "    Args:\n",
    "        seq1: First sequence\n",
    "        seq2: Second sequence\n",
    "        \n",
    "    Returns:\n",
    "        Hamming distance (number of positions where the sequences differ)\n",
    "        \n",
    "    Raises:\n",
    "        ValueError: If sequences have different lengths\n",
    "    \"\"\"\n",
    "    if len(seq1) != len(seq2):\n",
    "        raise ValueError(\"Sequences must have the same length\")\n",
    "    \n",
    "    return sum(a != b for a, b in zip(seq1, seq2))"
   ]
  },
  {
   "cell_type": "code",
   "execution_count": null,
   "metadata": {},
   "outputs": [],
   "source": [
    "#| export\n",
    "def find_best_barcode_match(\n",
    "    sequence: str, \n",
    "    barcodes: List[BarcodeConfig],\n",
    "    max_mismatches: int = 1\n",
    ") -> Optional[BarcodeMatch]:\n",
    "    \"\"\"Find the best matching barcode in a sequence.\n",
    "    \n",
    "    Args:\n",
    "        sequence: The sequence to search in\n",
    "        barcodes: List of barcode configurations to search for\n",
    "        max_mismatches: Maximum number of mismatches to allow\n",
    "        \n",
    "    Returns:\n",
    "        The best matching BarcodeMatch or None if no match found\n",
    "    \"\"\"\n",
    "    best_match = None\n",
    "    min_mismatches = max_mismatches + 1\n",
    "    sequence = sequence.upper()\n",
    "    \n",
    "    for barcode in barcodes:\n",
    "        # Check forward orientation with regex\n",
    "        pattern = f\"({barcode.sequence}){{e<={max_mismatches}}}\"\n",
    "        r = regex.compile(pattern)\n",
    "        for match in r.finditer(sequence):\n",
    "            # Get the fuzzy counts (substitutions, insertions, deletions)\n",
    "            subs, ins, dels = match.fuzzy_counts\n",
    "            total_mismatches = subs + ins + dels\n",
    "            \n",
    "            if total_mismatches < min_mismatches:\n",
    "                min_mismatches = total_mismatches\n",
    "                best_match = BarcodeMatch(\n",
    "                    barcode=barcode,\n",
    "                    orientation=OrientationType.FORWARD,\n",
    "                    position=match.start(),\n",
    "                    sequence=match.group()\n",
    "                )\n",
    "        \n",
    "        # Check reverse complement orientation with regex\n",
    "        rc_pattern = f\"({barcode.reverse_complement}){{e<={max_mismatches}}}\"\n",
    "        rc_r = regex.compile(rc_pattern)\n",
    "        for match in rc_r.finditer(sequence):\n",
    "            # Get the fuzzy counts\n",
    "            subs, ins, dels = match.fuzzy_counts\n",
    "            total_mismatches = subs + ins + dels\n",
    "            \n",
    "            if total_mismatches < min_mismatches:\n",
    "                min_mismatches = total_mismatches\n",
    "                best_match = BarcodeMatch(\n",
    "                    barcode=barcode,\n",
    "                    orientation=OrientationType.REVERSE_COMPLEMENT,\n",
    "                    position=match.start(),\n",
    "                    sequence=match.group()\n",
    "                )\n",
    "    \n",
    "    return best_match"
   ]
  },
  {
   "cell_type": "code",
   "execution_count": null,
   "metadata": {},
   "outputs": [],
   "source": []
  },
  {
   "cell_type": "code",
   "execution_count": null,
   "metadata": {},
   "outputs": [],
   "source": [
    "#| export\n",
    "def classify_read_by_first_match(\n",
    "    sequence: str, \n",
    "    barcodes: List[BarcodeConfig],\n",
    "    max_mismatches: int = 0\n",
    ") -> Tuple[Optional[BarcodeMatch], str]:\n",
    "    \"\"\"Classify a read based on the first barcode match found.\n",
    "    \n",
    "    This is an optimized version that stops after finding the first match,\n",
    "    without evaluating all possible matches in the sequence.\n",
    "    \n",
    "    Args:\n",
    "        sequence: The sequence to classify\n",
    "        barcodes: List of barcode configurations to search for\n",
    "        max_mismatches: Maximum number of mismatches to allow\n",
    "        \n",
    "    Returns:\n",
    "        Tuple of (match, category)\n",
    "        Category is one of: \"barcode5_orientFR\", \"barcode5_orientRC\", etc.\n",
    "        or \"noBarcode\" if no match found\n",
    "    \"\"\"\n",
    "    sequence = sequence.upper()\n",
    "    \n",
    "    # Determine if we're in single barcode mode or multiple barcode mode\n",
    "    single_barcode_mode = len(barcodes) == 1 or all(b.location.value == \"UNK\" for b in barcodes)\n",
    "    \n",
    "    # Check each barcode in order\n",
    "    for barcode in barcodes:\n",
    "        # Check forward orientation first\n",
    "        if max_mismatches == 0:\n",
    "            # Exact match with re\n",
    "            match = re.search(barcode.sequence, sequence)\n",
    "            if match:\n",
    "                barcode_match = BarcodeMatch(\n",
    "                    barcode=barcode,\n",
    "                    orientation=OrientationType.FORWARD,\n",
    "                    position=match.start(),\n",
    "                    sequence=match.group()\n",
    "                )\n",
    "                \n",
    "                if single_barcode_mode:\n",
    "                    return barcode_match, \"barcode_orientFR\"\n",
    "                else:\n",
    "                    location = barcode.location.value if barcode.location.value in [\"5\", \"3\"] else \"\"\n",
    "                    return barcode_match, f\"barcode{location}_orient{OrientationType.FORWARD.value}\"\n",
    "        else:\n",
    "            # Fuzzy match with regex\n",
    "            pattern = f\"({barcode.sequence}){{e<={max_mismatches}}}\"\n",
    "            r = regex.compile(pattern)\n",
    "            match = r.search(sequence)\n",
    "            if match:\n",
    "                barcode_match = BarcodeMatch(\n",
    "                    barcode=barcode,\n",
    "                    orientation=OrientationType.FORWARD,\n",
    "                    position=match.start(),\n",
    "                    sequence=match.group()\n",
    "                )\n",
    "                \n",
    "                if single_barcode_mode:\n",
    "                    return barcode_match, \"barcode_orientFR\"\n",
    "                else:\n",
    "                    location = barcode.location.value if barcode.location.value in [\"5\", \"3\"] else \"\"\n",
    "                    return barcode_match, f\"barcode{location}_orient{OrientationType.FORWARD.value}\"\n",
    "        \n",
    "        # Check reverse complement orientation\n",
    "        rc_seq = barcode.reverse_complement\n",
    "        if max_mismatches == 0:\n",
    "            # Exact match with re\n",
    "            match = re.search(rc_seq, sequence)\n",
    "            if match:\n",
    "                barcode_match = BarcodeMatch(\n",
    "                    barcode=barcode,\n",
    "                    orientation=OrientationType.REVERSE_COMPLEMENT,\n",
    "                    position=match.start(),\n",
    "                    sequence=match.group()\n",
    "                )\n",
    "                \n",
    "                if single_barcode_mode:\n",
    "                    return barcode_match, \"barcode_orientRC\"\n",
    "                else:\n",
    "                    location = barcode.location.value if barcode.location.value in [\"5\", \"3\"] else \"\"\n",
    "                    return barcode_match, f\"barcode{location}_orient{OrientationType.REVERSE_COMPLEMENT.value}\"\n",
    "        else:\n",
    "            # Fuzzy match with regex\n",
    "            pattern = f\"({rc_seq}){{e<={max_mismatches}}}\"\n",
    "            r = regex.compile(pattern)\n",
    "            match = r.search(sequence)\n",
    "            if match:\n",
    "                barcode_match = BarcodeMatch(\n",
    "                    barcode=barcode,\n",
    "                    orientation=OrientationType.REVERSE_COMPLEMENT,\n",
    "                    position=match.start(),\n",
    "                    sequence=match.group()\n",
    "                )\n",
    "                \n",
    "                if single_barcode_mode:\n",
    "                    return barcode_match, \"barcode_orientRC\"\n",
    "                else:\n",
    "                    location = barcode.location.value if barcode.location.value in [\"5\", \"3\"] else \"\"\n",
    "                    return barcode_match, f\"barcode{location}_orient{OrientationType.REVERSE_COMPLEMENT.value}\"\n",
    "    \n",
    "    # No match found\n",
    "    return None, \"noBarcode\""
   ]
  },
  {
   "cell_type": "markdown",
   "metadata": {},
   "source": [
    "# Barcode Classification Utilities\n",
    "Functions for classifying and categorizing barcode matches."
   ]
  },
  {
   "cell_type": "code",
   "execution_count": null,
   "metadata": {},
   "outputs": [],
   "source": []
  },
  {
   "cell_type": "code",
   "execution_count": null,
   "metadata": {},
   "outputs": [],
   "source": [
    "#| export\n",
    "def get_output_category(\n",
    "    match: Optional[BarcodeMatch], \n",
    "    single_barcode_mode: bool = False\n",
    ") -> str:\n",
    "    \"\"\"Get the output category for a barcode match.\n",
    "    \n",
    "    Args:\n",
    "        match: Barcode match or None\n",
    "        single_barcode_mode: Whether we're in single barcode mode\n",
    "        \n",
    "    Returns:\n",
    "        Category string for output file naming\n",
    "    \"\"\"\n",
    "    if match is None:\n",
    "        return \"noBarcode\"\n",
    "    \n",
    "    if single_barcode_mode:\n",
    "        return f\"barcode_orient{match.orientation.value}\"\n",
    "    else:\n",
    "        location = match.barcode.location.value\n",
    "        return f\"barcode{location}_orient{match.orientation.value}\""
   ]
  },
  {
   "cell_type": "code",
   "execution_count": null,
   "metadata": {},
   "outputs": [],
   "source": []
  },
  {
   "cell_type": "code",
   "execution_count": null,
   "metadata": {},
   "outputs": [
    {
     "name": "stdout",
     "output_type": "stream",
     "text": [
      "Found 2 matches\n",
      "Match: 5 (FR) at position 6\n",
      "  Barcode: 5\n",
      "  Orientation: FR\n",
      "  Position: 6\n",
      "  Sequence: TCGCGAGGC\n",
      "Match: 3 (FR) at position 22\n",
      "  Barcode: 3\n",
      "  Orientation: FR\n",
      "  Position: 22\n",
      "  Sequence: GGCCGGCCGG\n"
     ]
    }
   ],
   "source": [
    "# Example sequence with a barcode\n",
    "sequence = \"AAAAAATCGCGAGGCAAAAAAAGGCCGGCCGGAAAAAA\"\n",
    "\n",
    "# Create barcode configurations\n",
    "\n",
    "barcode_5prime = BarcodeConfig(\n",
    "    sequence=\"TCGCGAGGC\",\n",
    "    location=BarcodeLocationType.FIVE_PRIME,\n",
    "    name=\"5\",\n",
    "    description=\"5' barcode for phenotyping experiment\"\n",
    ")\n",
    "\n",
    "barcode_3prime = BarcodeConfig(\n",
    "    sequence=\"GGCCGGCCGG\",\n",
    "    location=BarcodeLocationType.THREE_PRIME,\n",
    "    name=\"3\",\n",
    "    description=\"3' barcode for phenotyping experiment\"\n",
    ")\n",
    "\n",
    "\n",
    "# Find barcode matches\n",
    "matches = find_barcode_matches(sequence, [barcode_5prime, barcode_3prime])\n",
    "print(f\"Found {len(matches)} matches\")\n",
    "\n",
    "for match in matches:\n",
    "    print(f\"Match: {match}\")\n",
    "    print(f\"  Barcode: {match.barcode.name}\")\n",
    "    print(f\"  Orientation: {match.orientation.value}\")\n",
    "    print(f\"  Position: {match.position}\")\n",
    "    print(f\"  Sequence: {match.sequence}\")"
   ]
  },
  {
   "cell_type": "code",
   "execution_count": null,
   "metadata": {},
   "outputs": [
    {
     "name": "stdout",
     "output_type": "stream",
     "text": [
      "Found 2 matches\n",
      "Match: 5 (RC) at position 23\n",
      "  Barcode: 5\n",
      "  Orientation: RC\n",
      "  Position: 23\n",
      "  Sequence: GCCTCGCGA\n",
      "Match: 3 (RC) at position 6\n",
      "  Barcode: 3\n",
      "  Orientation: RC\n",
      "  Position: 6\n",
      "  Sequence: CCGGCCGGCC\n"
     ]
    }
   ],
   "source": [
    "sequence = \"TTTTTTCCGGCCGGCCTTTTTTTGCCTCGCGATTTTTT\"\n",
    "# Create barcode configurations\n",
    "\n",
    "barcode_5prime = BarcodeConfig(\n",
    "    sequence=\"TCGCGAGGC\",\n",
    "    location=BarcodeLocationType.FIVE_PRIME,\n",
    "    name=\"5\",\n",
    "    description=\"5' barcode for phenotyping experiment\"\n",
    ")\n",
    "\n",
    "barcode_3prime = BarcodeConfig(\n",
    "    sequence=\"GGCCGGCCGG\",\n",
    "    location=BarcodeLocationType.THREE_PRIME,\n",
    "    name=\"3\",\n",
    "    description=\"3' barcode for phenotyping experiment\"\n",
    ")\n",
    "\n",
    "\n",
    "# Find barcode matches\n",
    "matches = find_barcode_matches(sequence, [barcode_5prime, barcode_3prime])\n",
    "print(f\"Found {len(matches)} matches\")\n",
    "\n",
    "for match in matches:\n",
    "    print(f\"Match: {match}\")\n",
    "    print(f\"  Barcode: {match.barcode.name}\")\n",
    "    print(f\"  Orientation: {match.orientation.value}\")\n",
    "    print(f\"  Position: {match.position}\")\n",
    "    print(f\"  Sequence: {match.sequence}\")"
   ]
  },
  {
   "cell_type": "code",
   "execution_count": null,
   "metadata": {},
   "outputs": [
    {
     "name": "stdout",
     "output_type": "stream",
     "text": [
      "Found 1 matches\n",
      "Match: 3 (RC) at position 59\n",
      "  Barcode: 3\n",
      "  Orientation: RC\n",
      "  Position: 59\n",
      "  Sequence: GCCGGCCTCAGTTA\n",
      "First match: 3 (RC) at position 59\n",
      "Category: barcode3_orientRC\n"
     ]
    }
   ],
   "source": [
    "sequence = \"ACCCCCTTTCACCTTCAAACCGTTCCACTGTTCGTTAAGTGTTGTGATCATCGCCTTCGGCCGGCCTCAGTTAGCC\"\n",
    "barcode_5prime = BarcodeConfig(\n",
    "    sequence=\"CTGACTCCTTAAGGGCC\",\n",
    "    location=BarcodeLocationType.FIVE_PRIME,\n",
    "    name=\"5\",\n",
    "    description=\"5' barcode for phenotyping experiment\"\n",
    ")\n",
    "barcode_3prime = BarcodeConfig(\n",
    "    sequence=\"TAACTGAGGCCGGC\",\n",
    "    location=BarcodeLocationType.THREE_PRIME,\n",
    "    name=\"3\",\n",
    "    description=\"3' barcode for phenotyping experiment\"\n",
    ")\n",
    "\n",
    "# Find barcode matches\n",
    "matches = find_barcode_matches(sequence, [barcode_5prime, barcode_3prime])\n",
    "print(f\"Found {len(matches)} matches\")\n",
    "\n",
    "for match in matches:\n",
    "    print(f\"Match: {match}\")\n",
    "    print(f\"  Barcode: {match.barcode.name}\")\n",
    "    print(f\"  Orientation: {match.orientation.value}\")\n",
    "    print(f\"  Position: {match.position}\")\n",
    "    print(f\"  Sequence: {match.sequence}\")\n",
    "    \n",
    "    \n",
    "# Classify a read\n",
    "match, category = classify_read_by_first_match(\n",
    "    sequence=sequence,\n",
    "    barcodes=[barcode_5prime, barcode_3prime]\n",
    ")\n",
    "print(f\"First match: {match}\")\n",
    "print(f\"Category: {category}\")"
   ]
  },
  {
   "cell_type": "code",
   "execution_count": null,
   "metadata": {},
   "outputs": [],
   "source": []
  },
  {
   "cell_type": "code",
   "execution_count": null,
   "metadata": {},
   "outputs": [
    {
     "name": "stdout",
     "output_type": "stream",
     "text": [
      "First match: None\n",
      "Category: noBarcode\n"
     ]
    }
   ],
   "source": [
    "# Example of classifying a read using the first match approach\n",
    "sequence = \"AAAAAATCGCGAGGCAAAAAAAGGCCGGCCGGAAAAAA\"\n",
    "\n",
    "# Classify a read\n",
    "match, category = classify_read_by_first_match(\n",
    "    sequence=sequence,\n",
    "    barcodes=[barcode_5prime, barcode_3prime]\n",
    ")\n",
    "print(f\"First match: {match}\")\n",
    "print(f\"Category: {category}\")\n",
    "\n"
   ]
  },
  {
   "cell_type": "code",
   "execution_count": null,
   "metadata": {},
   "outputs": [
    {
     "name": "stdout",
     "output_type": "stream",
     "text": [
      "First match: None\n",
      "Category: noBarcode\n"
     ]
    }
   ],
   "source": [
    "sequence = \"TTTTTTCCGGCCGGCCTTTTTTTGCCTCGCGATTTTTT\"\n",
    "# Create barcode configurations\n",
    "# Classify a read\n",
    "match, category = classify_read_by_first_match(\n",
    "    sequence=sequence,\n",
    "    barcodes=[barcode_5prime, barcode_3prime]\n",
    ")\n",
    "print(f\"First match: {match}\")\n",
    "print(f\"Category: {category}\")\n"
   ]
  },
  {
   "cell_type": "code",
   "execution_count": null,
   "metadata": {},
   "outputs": [],
   "source": []
  },
  {
   "cell_type": "code",
   "execution_count": null,
   "metadata": {},
   "outputs": [],
   "source": []
  },
  {
   "cell_type": "code",
   "execution_count": null,
   "metadata": {},
   "outputs": [],
   "source": []
  },
  {
   "cell_type": "code",
   "execution_count": null,
   "metadata": {},
   "outputs": [],
   "source": []
  },
  {
   "cell_type": "code",
   "execution_count": null,
   "metadata": {},
   "outputs": [],
   "source": []
  },
  {
   "cell_type": "code",
   "execution_count": null,
   "metadata": {},
   "outputs": [],
   "source": []
  },
  {
   "cell_type": "code",
   "execution_count": null,
   "metadata": {},
   "outputs": [
    {
     "name": "stdout",
     "output_type": "stream",
     "text": [
      "Found 0 matches with max_mismatches=1\n"
     ]
    }
   ],
   "source": [
    "# Example with fuzzy matching using regex\n",
    "sequence_with_error = \"ACGTCGCGAAGCTAGCTAGCTAGCTAGCTAGC\"  # One mismatch\n",
    "matches = find_barcode_matches(\n",
    "    sequence=sequence_with_error,\n",
    "    barcodes=[barcode_5prime, barcode_3prime],\n",
    "    max_mismatches=1\n",
    ")\n",
    "\n",
    "print(f\"Found {len(matches)} matches with max_mismatches=1\")\n",
    "for match in matches:\n",
    "    print(f\"Match: {match}\")\n",
    "    print(f\"  Sequence: {match.sequence}\")\n",
    "    \n",
    "    # Use regex to get fuzzy match details\n",
    "    if match.orientation == OrientationType.FORWARD:\n",
    "        pattern = f\"({match.barcode.sequence}){{e<=1}}\"\n",
    "    else:\n",
    "        pattern = f\"({match.barcode.reverse_complement}){{e<=1}}\"\n",
    "        \n",
    "    r = regex.compile(pattern)\n",
    "    m = r.match(match.sequence)\n",
    "    \n",
    "    if m:\n",
    "        subs, ins, dels = m.fuzzy_counts\n",
    "        print(f\"  Fuzzy counts: {subs} substitutions, {ins} insertions, {dels} deletions\")"
   ]
  },
  {
   "cell_type": "code",
   "execution_count": null,
   "metadata": {},
   "outputs": [
    {
     "name": "stdout",
     "output_type": "stream",
     "text": [
      "First match: None\n",
      "Category: noBarcode\n",
      "\n",
      "With multiple potential matches:\n",
      "First match: None\n",
      "Category: noBarcode\n"
     ]
    }
   ],
   "source": [
    "# Example of classifying a read using the first match approach\n",
    "sequence = \"ACGTCGCGAGGCTAGCTAGCTAGCTAGCTAGC\"\n",
    "\n",
    "# Classify a read\n",
    "match, category = classify_read_by_first_match(\n",
    "    sequence=sequence,\n",
    "    barcodes=[barcode_5prime, barcode_3prime]\n",
    ")\n",
    "\n",
    "print(f\"First match: {match}\")\n",
    "print(f\"Category: {category}\")\n",
    "\n",
    "# Compare with a sequence that has multiple potential matches\n",
    "sequence_with_multiple = \"TCGCGAGGCTAGCTAGCGCCTCGCGATAGC\"  # Contains both barcodes\n",
    "match, category = classify_read_by_first_match(\n",
    "    sequence=sequence_with_multiple,\n",
    "    barcodes=[barcode_5prime, barcode_3prime]\n",
    ")\n",
    "\n",
    "print(f\"\\nWith multiple potential matches:\")\n",
    "print(f\"First match: {match}\")\n",
    "print(f\"Category: {category}\")"
   ]
  },
  {
   "cell_type": "markdown",
   "metadata": {},
   "source": [
    "# Conclusion\n",
    "This notebook provides utility functions for sequence manipulation, barcode detection, and classification in BarcodeSeqKit. These functions are used by both the BAM and FASTQ extractors to identify and categorize barcoded reads."
   ]
  },
  {
   "cell_type": "code",
   "execution_count": null,
   "metadata": {},
   "outputs": [],
   "source": []
  },
  {
   "cell_type": "code",
   "execution_count": null,
   "metadata": {},
   "outputs": [],
   "source": []
  },
  {
   "cell_type": "code",
   "execution_count": null,
   "metadata": {},
   "outputs": [],
   "source": []
  },
  {
   "cell_type": "code",
   "execution_count": null,
   "metadata": {},
   "outputs": [],
   "source": [
    "#| hide\n",
    "import nbdev; nbdev.nbdev_export()"
   ]
  },
  {
   "cell_type": "code",
   "execution_count": null,
   "metadata": {},
   "outputs": [],
   "source": []
  },
  {
   "cell_type": "code",
   "execution_count": null,
   "metadata": {},
   "outputs": [],
   "source": []
  }
 ],
 "metadata": {
  "kernelspec": {
   "display_name": "python3",
   "language": "python",
   "name": "python3"
  }
 },
 "nbformat": 4,
 "nbformat_minor": 4
}
