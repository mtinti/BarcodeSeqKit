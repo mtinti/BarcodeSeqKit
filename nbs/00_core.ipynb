{
 "cells": [
  {
   "cell_type": "markdown",
   "metadata": {},
   "source": [
    "# BarcodeSeqKit Core\n",
    "\n",
    "> Core abstractions for barcode extraction from sequencing data"
   ]
  },
  {
   "cell_type": "code",
   "execution_count": null,
   "metadata": {},
   "outputs": [],
   "source": [
    "#| default_exp core"
   ]
  },
  {
   "cell_type": "code",
   "execution_count": null,
   "metadata": {},
   "outputs": [],
   "source": [
    "#| hide\n",
    "from nbdev.showdoc import *"
   ]
  },
  {
   "cell_type": "markdown",
   "metadata": {},
   "source": [
    "## Introduction\n",
    "\n",
    "BarcodeSeqKit is a library designed for extracting and processing barcoded sequences from next-generation sequencing data. This notebook contains the core abstractions and base classes for the library."
   ]
  },
  {
   "cell_type": "code",
   "execution_count": null,
   "metadata": {},
   "outputs": [],
   "source": [
    "#| export\n",
    "import os\n",
    "import re\n",
    "import sys\n",
    "import gzip\n",
    "import json\n",
    "import enum\n",
    "import logging\n",
    "from pathlib import Path\n",
    "from abc import ABC, abstractmethod\n",
    "from dataclasses import dataclass, field\n",
    "from typing import List, Dict, Tuple, Set, Optional, Union, Iterator, Any\n",
    "from Bio.Seq import Seq"
   ]
  },
  {
   "cell_type": "markdown",
   "metadata": {},
   "source": [
    "## Barcode Configuration\n",
    "First, let's define the data structures for barcode configuration."
   ]
  },
  {
   "cell_type": "code",
   "execution_count": null,
   "metadata": {},
   "outputs": [],
   "source": [
    "#| export\n",
    "class OrientationType(enum.Enum):\n",
    "    \"\"\"Orientation types for barcode sequences.\"\"\"\n",
    "    FORWARD = \"FR\"\n",
    "    REVERSE_COMPLEMENT = \"RC\"\n",
    "    ANY = \"ANY\""
   ]
  },
  {
   "cell_type": "code",
   "execution_count": null,
   "metadata": {},
   "outputs": [],
   "source": [
    "#| export\n",
    "class BarcodeLocationType(enum.Enum):\n",
    "    \"\"\"Location types for barcodes.\"\"\"\n",
    "    FIVE_PRIME = \"5\"\n",
    "    THREE_PRIME = \"3\"\n",
    "    UNKNOWN = \"UNK\""
   ]
  },
  {
   "cell_type": "code",
   "execution_count": null,
   "metadata": {},
   "outputs": [],
   "source": [
    "#| export\n",
    "@dataclass\n",
    "class BarcodeConfig:\n",
    "    \"\"\"Configuration for a barcode sequence.\"\"\"\n",
    "    sequence: str\n",
    "    location: BarcodeLocationType = BarcodeLocationType.UNKNOWN\n",
    "    name: Optional[str] = None\n",
    "    description: Optional[str] = None\n",
    "    \n",
    "    def __post_init__(self):\n",
    "        # Clean the sequence and ensure uppercase\n",
    "        self.sequence = self.sequence.strip().upper()\n",
    "        # If no name is provided, use the sequence as the name\n",
    "        if self.name is None:\n",
    "            self.name = self.sequence\n",
    "    \n",
    "    @property\n",
    "    def reverse_complement(self) -> str:\n",
    "        \"\"\"Return the reverse complement of the barcode sequence.\"\"\"\n",
    "        return str(Seq(self.sequence).reverse_complement())\n",
    "    \n",
    "    def to_dict(self) -> Dict[str, Any]:\n",
    "        \"\"\"Convert the barcode configuration to a dictionary.\"\"\"\n",
    "        return {\n",
    "            \"sequence\": self.sequence,\n",
    "            \"location\": self.location.value,\n",
    "            \"name\": self.name,\n",
    "            \"description\": self.description,\n",
    "            \"reverse_complement\": self.reverse_complement\n",
    "        }"
   ]
  },
  {
   "cell_type": "code",
   "execution_count": null,
   "metadata": {},
   "outputs": [],
   "source": [
    "#| export\n",
    "@dataclass\n",
    "class BarcodeMatch:\n",
    "    \"\"\"Represents a match of a barcode in a sequence.\"\"\"\n",
    "    barcode: BarcodeConfig\n",
    "    orientation: OrientationType\n",
    "    position: int\n",
    "    sequence: str\n",
    "    \n",
    "    def __str__(self) -> str:\n",
    "        \"\"\"String representation of the barcode match.\"\"\"\n",
    "        return f\"{self.barcode.name} ({self.orientation.value}) at position {self.position}\""
   ]
  },
  {
   "cell_type": "markdown",
   "metadata": {},
   "source": [
    "## Extractor Base Classes\n",
    "Next, let's define the abstract base classes for the different extractors."
   ]
  },
  {
   "cell_type": "code",
   "execution_count": null,
   "metadata": {},
   "outputs": [],
   "source": [
    "#| export\n",
    "@dataclass\n",
    "class ExtractionStatistics:\n",
    "    \"\"\"Statistics collected during barcode extraction.\"\"\"\n",
    "    total_reads: int = 0\n",
    "    total_barcode_matches: int = 0\n",
    "    matches_by_barcode: Dict[str, int] = field(default_factory=dict)\n",
    "    matches_by_orientation: Dict[str, int] = field(default_factory=dict)\n",
    "    matches_by_category: Dict[str, int] = field(default_factory=dict)  # New field for category stats\n",
    "    no_barcode_count: int = 0\n",
    "    \n",
    "    def update_barcode_match(self, barcode_match: BarcodeMatch, category: Optional[str] = None) -> None:\n",
    "        \"\"\"Update statistics based on a barcode match.\n",
    "        \n",
    "        Args:\n",
    "            barcode_match: The barcode match\n",
    "            category: The category (e.g., 'barcode5_orientFR'). If None, will be derived from the match.\n",
    "        \"\"\"\n",
    "        self.total_barcode_matches += 1\n",
    "        \n",
    "        # Update matches by barcode\n",
    "        barcode_name = barcode_match.barcode.name\n",
    "        if barcode_name not in self.matches_by_barcode:\n",
    "            self.matches_by_barcode[barcode_name] = 0\n",
    "        self.matches_by_barcode[barcode_name] += 1\n",
    "        \n",
    "        # Update matches by orientation\n",
    "        orientation = barcode_match.orientation.value\n",
    "        if orientation not in self.matches_by_orientation:\n",
    "            self.matches_by_orientation[orientation] = 0\n",
    "        self.matches_by_orientation[orientation] += 1\n",
    "        \n",
    "        # Derive category if not provided\n",
    "        if category is None:\n",
    "            # Try to derive a reasonable category\n",
    "            location = barcode_match.barcode.location.value\n",
    "            if location in [\"5\", \"3\"]:\n",
    "                category = f\"barcode{location}_orient{orientation}\"\n",
    "            else:\n",
    "                category = f\"barcode_orient{orientation}\"\n",
    "        \n",
    "        # Update matches by category\n",
    "        if category not in self.matches_by_category:\n",
    "            self.matches_by_category[category] = 0\n",
    "        self.matches_by_category[category] += 1\n",
    "    \n",
    "    def to_dict(self) -> Dict[str, Any]:\n",
    "        \"\"\"Convert the statistics to a dictionary.\"\"\"\n",
    "        return {\n",
    "            \"total_reads\": self.total_reads,\n",
    "            \"total_barcode_matches\": self.total_barcode_matches,\n",
    "            \"matches_by_barcode\": self.matches_by_barcode,\n",
    "            \"matches_by_orientation\": self.matches_by_orientation,\n",
    "            \"matches_by_category\": self.matches_by_category,\n",
    "            \"no_barcode_count\": self.no_barcode_count,\n",
    "            \"match_rate\": (self.total_barcode_matches / self.total_reads) if self.total_reads > 0 else 0\n",
    "        }\n",
    "    \n",
    "    def save_json(self, output_path: str) -> None:\n",
    "        \"\"\"Save the statistics to a JSON file.\"\"\"\n",
    "        with open(output_path, 'w') as f:\n",
    "            json.dump(self.to_dict(), f, indent=2)\n",
    "    \n",
    "    def save_tsv(self, output_path: str) -> None:\n",
    "        \"\"\"Save the statistics to a TSV file.\"\"\"\n",
    "        with open(output_path, 'w') as f:\n",
    "            # Write header\n",
    "            f.write(\"Metric\\tValue\\n\")\n",
    "            \n",
    "            # Write overall statistics\n",
    "            stats_dict = self.to_dict()\n",
    "            f.write(f\"TotalReads\\t{stats_dict['total_reads']}\\n\")\n",
    "            f.write(f\"TotalBarcodeMatches\\t{stats_dict['total_barcode_matches']}\\n\")\n",
    "            f.write(f\"NoBarcodeCount\\t{stats_dict['no_barcode_count']}\\n\")\n",
    "            f.write(f\"MatchRate\\t{stats_dict['match_rate']:.4f}\\n\")\n",
    "            \n",
    "            # Write barcode-specific statistics\n",
    "            f.write(\"\\nBarcode\\tCount\\n\")\n",
    "            for barcode, count in stats_dict['matches_by_barcode'].items():\n",
    "                f.write(f\"{barcode}\\t{count}\\n\")\n",
    "            \n",
    "            # Write orientation-specific statistics\n",
    "            f.write(\"\\nOrientation\\tCount\\n\")\n",
    "            for orientation, count in stats_dict['matches_by_orientation'].items():\n",
    "                f.write(f\"{orientation}\\t{count}\\n\")\n",
    "            \n",
    "            # Write category-specific statistics\n",
    "            f.write(\"\\nCategory\\tCount\\n\")\n",
    "            for category, count in stats_dict['matches_by_category'].items():\n",
    "                f.write(f\"{category}\\t{count}\\n\")"
   ]
  },
  {
   "cell_type": "code",
   "execution_count": null,
   "metadata": {},
   "outputs": [],
   "source": [
    "#| export\n",
    "class BarcodeExtractor(ABC):\n",
    "    \"\"\"Abstract base class for barcode extraction from sequencing data.\"\"\"\n",
    "    \n",
    "    def __init__(\n",
    "        self, \n",
    "        barcodes: List[BarcodeConfig],\n",
    "        output_prefix: str,\n",
    "        output_dir: Optional[str] = None,\n",
    "        merge_orientations: bool = False,\n",
    "        keep_unmatched: bool = True,\n",
    "        verbose: bool = False,\n",
    "        log_file: Optional[str] = None\n",
    "    ):\n",
    "        self.barcodes = barcodes\n",
    "        self.output_prefix = output_prefix\n",
    "        self.output_dir = output_dir if output_dir else os.getcwd()\n",
    "        self.merge_orientations = merge_orientations\n",
    "        self.keep_unmatched = keep_unmatched\n",
    "        self.verbose = verbose\n",
    "        self.statistics = ExtractionStatistics()\n",
    "        \n",
    "        # Set up logging\n",
    "        self.logger = self._setup_logging(log_file)\n",
    "        \n",
    "        # Validate and prepare barcodes\n",
    "        self._validate_barcodes()\n",
    "        \n",
    "        # Prepare output directory\n",
    "        os.makedirs(self.output_dir, exist_ok=True)\n",
    "    \n",
    "    def _setup_logging(self, log_file: Optional[str]) -> logging.Logger:\n",
    "        \"\"\"Set up logging configuration.\"\"\"\n",
    "        logger = logging.getLogger(\"BarcodeSeqKit\")\n",
    "        logger.setLevel(logging.DEBUG if self.verbose else logging.INFO)\n",
    "        \n",
    "        # Console handler\n",
    "        console_handler = logging.StreamHandler()\n",
    "        console_handler.setLevel(logging.INFO)\n",
    "        console_formatter = logging.Formatter('%(asctime)s - %(name)s - %(levelname)s - %(message)s')\n",
    "        console_handler.setFormatter(console_formatter)\n",
    "        logger.addHandler(console_handler)\n",
    "        \n",
    "        # File handler (if requested)\n",
    "        if log_file:\n",
    "            file_handler = logging.FileHandler(log_file)\n",
    "            file_handler.setLevel(logging.DEBUG)\n",
    "            file_formatter = logging.Formatter('%(asctime)s - %(name)s - %(levelname)s - %(message)s')\n",
    "            file_handler.setFormatter(file_formatter)\n",
    "            logger.addHandler(file_handler)\n",
    "        \n",
    "        return logger\n",
    "    \n",
    "    def _validate_barcodes(self) -> None:\n",
    "        \"\"\"Validate barcode configurations.\"\"\"\n",
    "        if not self.barcodes:\n",
    "            raise ValueError(\"At least one barcode must be provided\")\n",
    "        \n",
    "        # Check for duplicate sequences\n",
    "        sequences = [barcode.sequence for barcode in self.barcodes]\n",
    "        if len(sequences) != len(set(sequences)):\n",
    "            self.logger.warning(\"Duplicate barcode sequences detected\")\n",
    "        \n",
    "        # Check for invalid sequences\n",
    "        valid_bases = set(\"ACGTN\")\n",
    "        for barcode in self.barcodes:\n",
    "            if not all(base in valid_bases for base in barcode.sequence):\n",
    "                raise ValueError(f\"Invalid barcode sequence: {barcode.sequence}\")\n",
    "    \n",
    "    @abstractmethod\n",
    "    def extract(self) -> ExtractionStatistics:\n",
    "        \"\"\"Extract barcodes from the input data.\"\"\"\n",
    "        pass\n",
    "    \n",
    "    @abstractmethod\n",
    "    def _find_barcode_matches(self, sequence: str) -> List[BarcodeMatch]:\n",
    "        \"\"\"Find barcode matches in a sequence.\"\"\"\n",
    "        pass\n",
    "    \n",
    "    def _get_output_path(self, barcode_name: str, orientation: OrientationType, suffix: str) -> str:\n",
    "        \"\"\"Generate an output file path based on barcode and orientation.\"\"\"\n",
    "        if barcode_name == \"noBarcode\":\n",
    "            filename = f\"{self.output_prefix}_{barcode_name}{suffix}\"\n",
    "        else:\n",
    "            filename = f\"{self.output_prefix}_barcode{barcode_name}_orient{orientation.value}{suffix}\"\n",
    "        \n",
    "        return os.path.join(self.output_dir, filename)\n",
    "    \n",
    "    def _get_combined_output_path(self, barcode_name: str, suffix: str) -> str:\n",
    "        \"\"\"Generate a combined output file path for a barcode.\"\"\"\n",
    "        filename = f\"{self.output_prefix}_combined_barcode{barcode_name}{suffix}\"\n",
    "        return os.path.join(self.output_dir, filename)\n",
    "    \n",
    "    def save_statistics(self) -> None:\n",
    "        \"\"\"Save extraction statistics to files.\"\"\"\n",
    "        # Save as JSON\n",
    "        json_path = os.path.join(self.output_dir, f\"{self.output_prefix}_extraction_stats.json\")\n",
    "        self.statistics.save_json(json_path)\n",
    "        \n",
    "        # Save as TSV\n",
    "        tsv_path = os.path.join(self.output_dir, f\"{self.output_prefix}_extraction_stats.tsv\")\n",
    "        self.statistics.save_tsv(tsv_path)\n",
    "        \n",
    "        self.logger.info(f\"Statistics saved to {json_path} and {tsv_path}\")"
   ]
  },
  {
   "cell_type": "markdown",
   "metadata": {},
   "source": [
    "Now let's implement the specialized extractors for BAM and FASTQ files"
   ]
  },
  {
   "cell_type": "code",
   "execution_count": null,
   "metadata": {},
   "outputs": [],
   "source": [
    "#| export\n",
    "class SequenceProcessor:\n",
    "    \"\"\"Utility class for processing sequences and finding barcode matches.\"\"\"\n",
    "    \n",
    "    @staticmethod\n",
    "    def find_barcode_matches(sequence: str, barcodes: List[BarcodeConfig]) -> List[BarcodeMatch]:\n",
    "        \"\"\"Find all barcode matches in a sequence.\n",
    "        \n",
    "        Args:\n",
    "            sequence: The sequence to search in\n",
    "            barcodes: List of barcode configurations to search for\n",
    "            \n",
    "        Returns:\n",
    "            List of BarcodeMatch objects representing the matches found\n",
    "        \"\"\"\n",
    "        matches = []\n",
    "        \n",
    "        for barcode in barcodes:\n",
    "            # Search for forward sequence\n",
    "            forward_positions = [m.start() for m in re.finditer(barcode.sequence, sequence)]\n",
    "            for pos in forward_positions:\n",
    "                matches.append(BarcodeMatch(\n",
    "                    barcode=barcode,\n",
    "                    orientation=OrientationType.FORWARD,\n",
    "                    position=pos,\n",
    "                    sequence=sequence[pos:pos+len(barcode.sequence)]\n",
    "                ))\n",
    "            \n",
    "            # Search for reverse complement sequence\n",
    "            rc_seq = barcode.reverse_complement\n",
    "            rc_positions = [m.start() for m in re.finditer(rc_seq, sequence)]\n",
    "            for pos in rc_positions:\n",
    "                matches.append(BarcodeMatch(\n",
    "                    barcode=barcode,\n",
    "                    orientation=OrientationType.REVERSE_COMPLEMENT,\n",
    "                    position=pos,\n",
    "                    sequence=sequence[pos:pos+len(rc_seq)]\n",
    "                ))\n",
    "        \n",
    "        return matches"
   ]
  },
  {
   "cell_type": "markdown",
   "metadata": {},
   "source": [
    "## Configuration Management\n",
    "Let's add classes for managing the library configuration:"
   ]
  },
  {
   "cell_type": "code",
   "execution_count": null,
   "metadata": {},
   "outputs": [],
   "source": [
    "#| export\n",
    "@dataclass\n",
    "class ExtractorConfig:\n",
    "    \"\"\"Configuration for the barcode extractor.\"\"\"\n",
    "    barcodes: List[BarcodeConfig]\n",
    "    output_prefix: str\n",
    "    output_dir: str = \".\"\n",
    "    merge_orientations: bool = False\n",
    "    keep_unmatched: bool = True\n",
    "    verbose: bool = False\n",
    "    log_file: Optional[str] = None\n",
    "    \n",
    "    @classmethod\n",
    "    def from_dict(cls, config_dict: Dict[str, Any]) -> 'ExtractorConfig':\n",
    "        \"\"\"Create a configuration from a dictionary.\"\"\"\n",
    "        # Extract barcode configurations\n",
    "        barcode_configs = []\n",
    "        for barcode_dict in config_dict.get(\"barcodes\", []):\n",
    "            location = BarcodeLocationType(barcode_dict.get(\"location\", \"UNK\"))\n",
    "            barcode_configs.append(BarcodeConfig(\n",
    "                sequence=barcode_dict[\"sequence\"],\n",
    "                location=location,\n",
    "                name=barcode_dict.get(\"name\"),\n",
    "                description=barcode_dict.get(\"description\")\n",
    "            ))\n",
    "        \n",
    "        # Create and return the configuration\n",
    "        return cls(\n",
    "            barcodes=barcode_configs,\n",
    "            output_prefix=config_dict[\"output_prefix\"],\n",
    "            output_dir=config_dict.get(\"output_dir\", \".\"),\n",
    "            merge_orientations=config_dict.get(\"merge_orientations\", False),\n",
    "            keep_unmatched=config_dict.get(\"keep_unmatched\", True),\n",
    "            verbose=config_dict.get(\"verbose\", False),\n",
    "            log_file=config_dict.get(\"log_file\")\n",
    "        )\n",
    "    \n",
    "    def to_dict(self) -> Dict[str, Any]:\n",
    "        \"\"\"Convert the configuration to a dictionary.\"\"\"\n",
    "        return {\n",
    "            \"barcodes\": [barcode.to_dict() for barcode in self.barcodes],\n",
    "            \"output_prefix\": self.output_prefix,\n",
    "            \"output_dir\": self.output_dir,\n",
    "            \"merge_orientations\": self.merge_orientations,\n",
    "            \"keep_unmatched\": self.keep_unmatched,\n",
    "            \"verbose\": self.verbose,\n",
    "            \"log_file\": self.log_file\n",
    "        }\n",
    "    \n",
    "    def save_yaml(self, output_path: str) -> None:\n",
    "        \"\"\"Save the configuration to a YAML file.\"\"\"\n",
    "        import yaml\n",
    "        with open(output_path, 'w') as f:\n",
    "            yaml.dump(self.to_dict(), f, default_flow_style=False)\n",
    "    \n",
    "    @classmethod\n",
    "    def load_yaml(cls, input_path: str) -> 'ExtractorConfig':\n",
    "        \"\"\"Load configuration from a YAML file.\"\"\"\n",
    "        import yaml\n",
    "        with open(input_path, 'r') as f:\n",
    "            config_dict = yaml.safe_load(f)\n",
    "        return cls.from_dict(config_dict)"
   ]
  },
  {
   "cell_type": "markdown",
   "metadata": {},
   "source": [
    "## Factory Pattern for Extractor Creation\n",
    "Let's implement a factory pattern to create the appropriate extractor based on input file type:"
   ]
  },
  {
   "cell_type": "code",
   "execution_count": null,
   "metadata": {},
   "outputs": [],
   "source": [
    "#| export\n",
    "class FileFormat(enum.Enum):\n",
    "    \"\"\"Supported file formats.\"\"\"\n",
    "    BAM = \"BAM\"\n",
    "    FASTQ = \"FASTQ\"\n",
    "    UNKNOWN = \"UNKNOWN\"\n",
    "\n",
    "    @classmethod\n",
    "    def detect_format(cls, file_path: str) -> 'FileFormat':\n",
    "        \"\"\"Detect the format of a file based on its extension.\"\"\"\n",
    "        lower_path = file_path.lower()\n",
    "        if lower_path.endswith('.bam'):\n",
    "            return cls.BAM\n",
    "        elif any(lower_path.endswith(ext) for ext in ['.fastq', '.fq', '.fastq.gz', '.fq.gz']):\n",
    "            return cls.FASTQ\n",
    "        else:\n",
    "            return cls.UNKNOWN"
   ]
  },
  {
   "cell_type": "markdown",
   "metadata": {},
   "source": [
    "## Factory Pattern for Extractor Creation\n",
    "Let's implement a factory pattern to create the appropriate extractor based on input file type:"
   ]
  },
  {
   "cell_type": "code",
   "execution_count": null,
   "metadata": {},
   "outputs": [],
   "source": [
    "#| export\n",
    "class FileFormat(enum.Enum):\n",
    "    \"\"\"Supported file formats.\"\"\"\n",
    "    BAM = \"BAM\"\n",
    "    FASTQ = \"FASTQ\"\n",
    "    UNKNOWN = \"UNKNOWN\"\n",
    "\n",
    "    @classmethod\n",
    "    def detect_format(cls, file_path: str) -> 'FileFormat':\n",
    "        \"\"\"Detect the format of a file based on its extension.\"\"\"\n",
    "        lower_path = file_path.lower()\n",
    "        if lower_path.endswith('.bam'):\n",
    "            return cls.BAM\n",
    "        elif any(lower_path.endswith(ext) for ext in ['.fastq', '.fq', '.fastq.gz', '.fq.gz']):\n",
    "            return cls.FASTQ\n",
    "        else:\n",
    "            return cls.UNKNOWN"
   ]
  },
  {
   "cell_type": "code",
   "execution_count": null,
   "metadata": {},
   "outputs": [],
   "source": [
    "#| export\n",
    "class ExtractorFactory:\n",
    "    \"\"\"Factory for creating barcode extractors based on file format.\"\"\"\n",
    "    \n",
    "    @staticmethod\n",
    "    def create_extractor(\n",
    "        config: ExtractorConfig,\n",
    "        input_files: Union[str, List[str]]\n",
    "    ) -> BarcodeExtractor:\n",
    "        \"\"\"Create a barcode extractor based on the input file format.\n",
    "        \n",
    "        Args:\n",
    "            config: Extractor configuration\n",
    "            input_files: Path to input file(s)\n",
    "            \n",
    "        Returns:\n",
    "            An appropriate BarcodeExtractor implementation\n",
    "            \n",
    "        Raises:\n",
    "            ValueError: If the file format is unsupported or inconsistent\n",
    "        \"\"\"\n",
    "        # Handle single file input\n",
    "        if isinstance(input_files, str):\n",
    "            input_files = [input_files]\n",
    "        \n",
    "        # Detect file format\n",
    "        formats = [FileFormat.detect_format(f) for f in input_files]\n",
    "        \n",
    "        # Check for consistent formats\n",
    "        if len(set(formats)) > 1:\n",
    "            raise ValueError(\"Mixed file formats are not supported\")\n",
    "        \n",
    "        format_type = formats[0]\n",
    "        \n",
    "        # Import the appropriate extractor\n",
    "        if format_type == FileFormat.BAM:\n",
    "            # Importing here to avoid circular imports\n",
    "            from BarcodeSeqKit.bam_processing import BamExtractor\n",
    "            return BamExtractor(\n",
    "                barcodes=config.barcodes,\n",
    "                output_prefix=config.output_prefix,\n",
    "                output_dir=config.output_dir,\n",
    "                merge_orientations=config.merge_orientations,\n",
    "                keep_unmatched=config.keep_unmatched,\n",
    "                verbose=config.verbose,\n",
    "                log_file=config.log_file,\n",
    "                bam_file=input_files[0]\n",
    "            )\n",
    "        elif format_type == FileFormat.FASTQ:\n",
    "            # Importing here to avoid circular imports\n",
    "            from BarcodeSeqKit.fastq_processing import FastqExtractor\n",
    "            \n",
    "            # Check if we have paired files\n",
    "            if len(input_files) == 1:\n",
    "                # Single path provided, check if it's a directory\n",
    "                if os.path.isdir(input_files[0]):\n",
    "                    from BarcodeSeqKit.fastq_processing import FastqHandler\n",
    "                    # Find paired files in the directory\n",
    "                    r1_path, r2_path = FastqHandler.find_fastq_pairs(input_files[0])\n",
    "                    fastq_files = [r1_path, r2_path]\n",
    "                else:\n",
    "                    # Single FASTQ file\n",
    "                    fastq_files = input_files\n",
    "            elif len(input_files) == 2:\n",
    "                # Paired FASTQ files\n",
    "                fastq_files = input_files\n",
    "            else:\n",
    "                raise ValueError(\"For FASTQ input, provide either a directory or exactly two files\")\n",
    "            \n",
    "            return FastqExtractor(\n",
    "                barcodes=config.barcodes,\n",
    "                output_prefix=config.output_prefix,\n",
    "                output_dir=config.output_dir,\n",
    "                merge_orientations=config.merge_orientations,\n",
    "                keep_unmatched=config.keep_unmatched,\n",
    "                verbose=config.verbose,\n",
    "                log_file=config.log_file,\n",
    "                fastq_files=fastq_files\n",
    "            )\n",
    "        else:\n",
    "            raise ValueError(f\"Unsupported file format: {format_type}\")"
   ]
  },
  {
   "cell_type": "markdown",
   "metadata": {},
   "source": [
    "# Example Usage\n",
    "Let's demonstrate how to use the core components"
   ]
  },
  {
   "cell_type": "code",
   "execution_count": null,
   "metadata": {},
   "outputs": [
    {
     "name": "stdout",
     "output_type": "stream",
     "text": [
      "Barcode 5' sequence: TCGCCAAGAGGC\n",
      "Barcode 5' reverse complement: GCCTCTTGGCGA\n",
      "Barcode 3' sequence: GCCTCGAATCGA\n",
      "Barcode 3' reverse complement: TCGATTCGAGGC\n"
     ]
    }
   ],
   "source": [
    "# Example of creating a barcode configuration\n",
    "barcode_5prime = BarcodeConfig(\n",
    "    sequence=\"TCGCCAAGAGGC\",\n",
    "    location=BarcodeLocationType.FIVE_PRIME,\n",
    "    name=\"5\",\n",
    "    description=\"5' barcode for phenotyping experiment\"\n",
    ")\n",
    "\n",
    "barcode_3prime = BarcodeConfig(\n",
    "    sequence=\"GCCTCGAATCGA\",\n",
    "    location=BarcodeLocationType.THREE_PRIME,\n",
    "    name=\"3\",\n",
    "    description=\"3' barcode for phenotyping experiment\"\n",
    ")\n",
    "\n",
    "# Create an extractor configuration\n",
    "config = ExtractorConfig(\n",
    "    barcodes=[barcode_5prime, barcode_3prime],\n",
    "    output_prefix=\"example\",\n",
    "    output_dir=\"./output\",\n",
    "    merge_orientations=True\n",
    ")\n",
    "\n",
    "# Print the configuration\n",
    "print(f\"Barcode 5' sequence: {barcode_5prime.sequence}\")\n",
    "print(f\"Barcode 5' reverse complement: {barcode_5prime.reverse_complement}\")\n",
    "print(f\"Barcode 3' sequence: {barcode_3prime.sequence}\")\n",
    "print(f\"Barcode 3' reverse complement: {barcode_3prime.reverse_complement}\")"
   ]
  },
  {
   "cell_type": "code",
   "execution_count": null,
   "metadata": {},
   "outputs": [],
   "source": [
    "#barcode_5prime.sequence,barcode_5prime,barcode_3prime.sequence"
   ]
  },
  {
   "cell_type": "code",
   "execution_count": null,
   "metadata": {},
   "outputs": [
    {
     "name": "stdout",
     "output_type": "stream",
     "text": [
      "True\n"
     ]
    }
   ],
   "source": [
    "# Example of finding barcode matches in a sequence\n",
    "sequence = \"AAAAAAATCGCCAAGAGGCAAAAAAA\"\n",
    "matches = SequenceProcessor.find_barcode_matches(sequence, [barcode_5prime, barcode_3prime])\n",
    "\n",
    "for match in matches:\n",
    "    print(f\"Found {match}\"==\"Found 5 (FR) at position 7\")"
   ]
  },
  {
   "cell_type": "code",
   "execution_count": null,
   "metadata": {},
   "outputs": [
    {
     "name": "stdout",
     "output_type": "stream",
     "text": [
      "True\n"
     ]
    }
   ],
   "source": [
    "# Example of finding barcode 3FR matches in a sequence\n",
    "sequence = \"AAAAAAAGCCTCGAATCGAAAAAAAA\"\n",
    "matches = SequenceProcessor.find_barcode_matches(sequence, [barcode_5prime, barcode_3prime])\n",
    "\n",
    "for match in matches:\n",
    "    print(f\"Found {match}\" == 'Found 3 (FR) at position 7')"
   ]
  },
  {
   "cell_type": "code",
   "execution_count": null,
   "metadata": {},
   "outputs": [
    {
     "name": "stdout",
     "output_type": "stream",
     "text": [
      "True\n"
     ]
    }
   ],
   "source": [
    "# Example of finding barcode 5 RC matches in a sequence\n",
    "sequence = \"AAAAAAAGCCTCTTGGCGAAAAAAAA\"\n",
    "matches = SequenceProcessor.find_barcode_matches(sequence, [barcode_5prime, barcode_3prime])\n",
    "\n",
    "for match in matches:\n",
    "    print(f\"Found {match}\"=='Found 5 (RC) at position 7')"
   ]
  },
  {
   "cell_type": "code",
   "execution_count": null,
   "metadata": {},
   "outputs": [
    {
     "name": "stdout",
     "output_type": "stream",
     "text": [
      "True\n"
     ]
    }
   ],
   "source": [
    "# Example of finding barcode 3 RC matches in a sequence\n",
    "sequence = \"AAAAAAATCGATTCGAGGCAAAAAAAA\"\n",
    "matches = SequenceProcessor.find_barcode_matches(sequence, [barcode_5prime, barcode_3prime])\n",
    "\n",
    "for match in matches:\n",
    "    print(f\"Found {match}\" == 'Found 3 (RC) at position 7')"
   ]
  },
  {
   "cell_type": "code",
   "execution_count": null,
   "metadata": {},
   "outputs": [],
   "source": []
  },
  {
   "cell_type": "code",
   "execution_count": null,
   "metadata": {},
   "outputs": [],
   "source": []
  },
  {
   "cell_type": "code",
   "execution_count": null,
   "metadata": {},
   "outputs": [
    {
     "name": "stdout",
     "output_type": "stream",
     "text": [
      "Configuration saved to example_config.yaml\n"
     ]
    }
   ],
   "source": [
    "# Example of saving configuration to YAML\n",
    "config.save_yaml(\"example_config.yaml\")\n",
    "print(\"Configuration saved to example_config.yaml\")"
   ]
  },
  {
   "cell_type": "markdown",
   "metadata": {},
   "source": [
    "## Conclusion\n",
    "This notebook establishes the core abstractions for the BarcodeSeqKit library.\n",
    "These classes provide the foundation for the specialized extractors for different file formats, which will be implemented in separate notebooks."
   ]
  },
  {
   "cell_type": "code",
   "execution_count": null,
   "metadata": {},
   "outputs": [],
   "source": [
    "#| hide\n",
    "import nbdev; nbdev.nbdev_export()"
   ]
  }
 ],
 "metadata": {
  "kernelspec": {
   "display_name": "python3",
   "language": "python",
   "name": "python3"
  }
 },
 "nbformat": 4,
 "nbformat_minor": 4
}
