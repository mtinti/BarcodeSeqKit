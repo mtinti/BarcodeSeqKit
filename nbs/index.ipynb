{
 "cells": [
  {
   "cell_type": "markdown",
   "metadata": {},
   "source": [
    "# BarcodeSeqKit\n",
    "\n",
    "> Extract and classify sequences based on barcode presence in BAM and FASTQ files"
   ]
  },
  {
   "cell_type": "markdown",
   "metadata": {},
   "source": [
    "## Overview\n",
    "\n",
    "BarcodeSeqKit is a Python library for extracting and classifying sequencing reads based on the presence of specific barcode sequences. It supports both BAM and FASTQ file formats and provides flexible options for barcode matching and output generation.\n",
    "\n",
    "Key features:\n",
    "- Process both BAM and FASTQ files (including paired-end data)\n",
    "- Support for single barcodes or specific 5'/3' barcodes\n",
    "- Detect barcodes in forward and reverse complement orientations\n",
    "- Options for fuzzy matching with configurable mismatches\n",
    "- Search in softclipped regions of BAM alignments\n",
    "- Process paired-end FASTQ files with options to search both reads\n",
    "- Comprehensive statistics on barcode matches"
   ]
  },
  {
   "cell_type": "markdown",
   "metadata": {},
   "source": [
    "## Installation\n",
    "\n",
    "You can install the package via pip:\n",
    "\n",
    "```bash\n",
    "pip install barcodeseqkit\n",
    "```\n",
    "\n",
    "Or directly from the repository:\n",
    "\n",
    "```bash\n",
    "pip install git+https://github.com/username/BarcodeSeqKit.git\n",
    "```"
   ]
  },
  {
   "cell_type": "markdown",
   "metadata": {},
   "source": [
    "## Usage\n",
    "\n",
    "BarcodeSeqKit can be used as a Python library or as a command-line tool. Below, we'll demonstrate both usage patterns."
   ]
  },
  {
   "cell_type": "markdown",
   "metadata": {},
   "source": [
    "### Command-line Usage\n",
    "\n",
    "BarcodeSeqKit provides a command-line interface through the `barcodeseqkit` command. Here are the basic arguments:\n",
    "\n",
    "```\n",
    "usage: barcodeseqkit [-h] [--bam BAM | --fastq1 FASTQ1 | --fastq-dir FASTQ_DIR] [--fastq2 FASTQ2]\n",
    "                      [--barcode-config BARCODE_CONFIG | --barcode BARCODE | --barcode5 BARCODE5] [--barcode3 BARCODE3]\n",
    "                      [--max-mismatches MAX_MISMATCHES] --output-prefix OUTPUT_PREFIX\n",
    "                      [--output-dir OUTPUT_DIR] [--merge-orientations] [--search-both-reads]\n",
    "                      [--search-softclipped] [--no-compress] [--verbose] [--log-file LOG_FILE]\n",
    "```"
   ]
  },
  {
   "cell_type": "markdown",
   "metadata": {},
   "source": [
    "#### Single Barcode Example\n",
    "\n",
    "When you have a single barcode sequence, you can use the `--barcode` option. This creates two output files with reads matching the barcode in forward orientation (`barcode_orientFR`) and reverse complement orientation (`barcode_orientRC`).\n",
    "\n",
    "Let's run an example using a test BAM file:"
   ]
  },
  {
   "cell_type": "markdown",
   "metadata": {},
   "source": [
    "```bash\n",
    "barcodeseqkit --bam test.bam \\\n",
    "              --barcode CTGACTCCTTAAGGGCC \\\n",
    "              --output-prefix test_out_1 \\\n",
    "              --output-dir ./test_output\n",
    "```"
   ]
  },
  {
   "cell_type": "markdown",
   "metadata": {},
   "source": [
    "This command will:\n",
    "1. Process the BAM file `test.bam`\n",
    "2. Search for the barcode sequence `CTGACTCCTTAAGGGCC` (and its reverse complement)\n",
    "3. Create the following output files in the `./test_output` directory:\n",
    "   - `test_out_1_barcode_orientFR.bam`: Reads with the barcode in forward orientation\n",
    "   - `test_out_1_barcode_orientRC.bam`: Reads with the barcode in reverse complement orientation\n",
    "   - `test_out_1_extraction_stats.json` and `test_out_1_extraction_stats.tsv`: Extraction statistics"
   ]
  },
  {
   "cell_type": "markdown",
   "metadata": {},
   "source": [
    "#### Dual Barcode Example\n",
    "\n",
    "When you have two barcode sequences with specific locations (5' and 3'), you can use the `--barcode5` and `--barcode3` options. This creates four output files for all combinations of barcode locations and orientations.\n",
    "\n",
    "Let's run an example with both 5' and 3' barcodes:"
   ]
  },
  {
   "cell_type": "markdown",
   "metadata": {},
   "source": [
    "```bash\n",
    "barcodeseqkit --bam test.bam \\\n",
    "              --barcode5 CTGACTCCTTAAGGGCC \\\n",
    "              --barcode3 TAACTGAGGCCGGC \\\n",
    "              --output-prefix test_out_2 \\\n",
    "              --output-dir ./test_output\n",
    "```"
   ]
  },
  {
   "cell_type": "markdown",
   "metadata": {},
   "source": [
    "This command will:\n",
    "1. Process the BAM file `test.bam`\n",
    "2. Search for the 5' barcode sequence `CTGACTCCTTAAGGGCC` and the 3' barcode sequence `TAACTGAGGCCGGC` (and their reverse complements)\n",
    "3. Create the following output files in the `./test_output` directory:\n",
    "   - `test_out_2_barcode5_orientFR.bam`: Reads with the 5' barcode in forward orientation\n",
    "   - `test_out_2_barcode5_orientRC.bam`: Reads with the 5' barcode in reverse complement orientation\n",
    "   - `test_out_2_barcode3_orientFR.bam`: Reads with the 3' barcode in forward orientation\n",
    "   - `test_out_2_barcode3_orientRC.bam`: Reads with the 3' barcode in reverse complement orientation\n",
    "   - `test_out_2_extraction_stats.json` and `test_out_2_extraction_stats.tsv`: Extraction statistics"
   ]
  },
  {
   "cell_type": "markdown",
   "metadata": {},
   "source": [
    "#### FASTQ File Example\n",
    "\n",
    "BarcodeSeqKit can also process FASTQ files with the same barcode specification options:"
   ]
  },
  {
   "cell_type": "markdown",
   "metadata": {},
   "source": [
    "```bash\n",
    "barcodeseqkit --fastq1 read1.fastq.gz \\\n",
    "              --fastq2 read2.fastq.gz \\\n",
    "              --barcode5 CTGACTCCTTAAGGGCC \\\n",
    "              --output-prefix fastq_test \\\n",
    "              --output-dir ./test_output \\\n",
    "              --search-both-reads\n",
    "```"
   ]
  },
  {
   "cell_type": "markdown",
   "metadata": {},
   "source": [
    "This will process the paired FASTQ files, searching for the barcode in both reads, and create corresponding output FASTQ files for each barcode category."
   ]
  },
  {
   "cell_type": "markdown",
   "metadata": {},
   "source": [
    "## Special Features\n",
    "\n",
    "### Extracting Softclipped Regions from BAM Files\n",
    "\n",
    "BarcodeSeqKit includes an option to analyze only the softclipped sequences from read alignments. Barcodes are often present in softclipped regions of the reads. This feature is also useful for looking for splice leader sequences in trypanosomatids.\n",
    "\n",
    "The `--search-softclipped` option extracts orientation-specific softclipped sequences:\n",
    "- For reads on the forward strand (+): extracts the softclipped sequence at the 5' end\n",
    "- For reads on the reverse strand (-): extracts the softclipped sequence at the 3' end\n",
    "\n",
    "```bash\n",
    "barcodeseqkit --bam test.bam \\\n",
    "              --barcode CTGACTCCTTAAGGGCC \\\n",
    "              --output-prefix softclip_test \\\n",
    "              --search-softclipped\n",
    "```"
   ]
  },
  {
   "cell_type": "markdown",
   "metadata": {},
   "source": [
    "### Examining Extraction Statistics\n",
    "\n",
    "BarcodeSeqKit generates detailed extraction statistics in both JSON and TSV formats. Let's examine a sample statistics file:"
   ]
  },
  {
   "cell_type": "code",
   "execution_count": null,
   "metadata": {},
   "outputs": [],
   "source": [
    "import pandas as pd\n",
    "import json\n",
    "import os\n",
    "\n",
    "# Example (modify path to a real stats file if needed)\n",
    "# df = pd.read_csv('./test_output/test_out_1_extraction_stats.tsv', sep='\\t')\n",
    "# df"
   ]
  },
  {
   "cell_type": "markdown",
   "metadata": {},
   "source": [
    "The statistics file provides information about:\n",
    "- Total reads processed\n",
    "- Total barcode matches found\n",
    "- Reads without barcode matches\n",
    "- Match rate \n",
    "- Counts by barcode type (5'/3'/generic)\n",
    "- Counts by orientation (forward/reverse complement)\n",
    "- Counts by specific category"
   ]
  },
  {
   "cell_type": "markdown",
   "metadata": {},
   "source": [
    "## Programmatic Usage\n",
    "\n",
    "You can also use BarcodeSeqKit programmatically in your Python code. The library has been redesigned with a simplified, direct interface that makes it easy to extract barcodes from both BAM and FASTQ files."
   ]
  },
  {
   "cell_type": "markdown",
   "metadata": {},
   "source": [
    "### Processing BAM Files"
   ]
  },
  {
   "cell_type": "code",
   "execution_count": null,
   "metadata": {},
   "outputs": [],
   "source": [
    "from BarcodeSeqKit.core import BarcodeConfig, BarcodeLocationType, BarcodeSeqKitConfig\n",
    "from BarcodeSeqKit.bam_processing import extract_barcodes_from_bam\n",
    "\n",
    "# Define barcode configurations\n",
    "barcode5 = BarcodeConfig(\n",
    "    sequence=\"CTGACTCCTTAAGGGCC\",\n",
    "    location=BarcodeLocationType.FIVE_PRIME,\n",
    "    name=\"5\",\n",
    "    description=\"5' barcode sequence\"\n",
    ")\n",
    "\n",
    "barcode3 = BarcodeConfig(\n",
    "    sequence=\"TAACTGAGGCCGGC\",\n",
    "    location=BarcodeLocationType.THREE_PRIME,\n",
    "    name=\"3\",\n",
    "    description=\"3' barcode sequence\"\n",
    ")\n",
    "\n",
    "# Create configuration\n",
    "config = BarcodeSeqKitConfig(\n",
    "    barcodes=[barcode5, barcode3],\n",
    "    output_prefix=\"programmatic_example\",\n",
    "    output_dir=\"./output\",\n",
    "    max_mismatches=0,\n",
    "    search_softclipped=True,\n",
    "    verbose=True\n",
    ")\n",
    "\n",
    "# Extract barcodes (commented out to avoid execution)\n",
    "# stats = extract_barcodes_from_bam(\"test.bam\", config)\n",
    "# print(f\"Extraction complete: {stats.total_barcode_matches} matches in {stats.total_reads} alignments\")"
   ]
  },
  {
   "cell_type": "markdown",
   "metadata": {},
   "source": [
    "### Processing FASTQ Files"
   ]
  },
  {
   "cell_type": "code",
   "execution_count": null,
   "metadata": {},
   "outputs": [],
   "source": [
    "from BarcodeSeqKit.fastq_processing import extract_barcodes_from_fastq\n",
    "\n",
    "# Create configuration for FASTQ processing\n",
    "config = BarcodeSeqKitConfig(\n",
    "    barcodes=[barcode5, barcode3],\n",
    "    output_prefix=\"fastq_example\",\n",
    "    output_dir=\"./output\",\n",
    "    search_both_reads=True,\n",
    "    compress_output=True,\n",
    "    verbose=True\n",
    ")\n",
    "\n",
    "# Extract barcodes (commented out to avoid execution)\n",
    "# fastq_files = [\"read1.fastq.gz\", \"read2.fastq.gz\"]\n",
    "# stats = extract_barcodes_from_fastq(fastq_files, config)\n",
    "# print(f\"Extraction complete: {stats.total_barcode_matches} matches in {stats.total_reads} reads\")"
   ]
  },
  {
   "cell_type": "markdown",
   "metadata": {},
   "source": [
    "## Advanced Options\n",
    "\n",
    "BarcodeSeqKit provides several advanced options for barcode extraction:\n",
    "\n",
    "### Command-Line Options\n",
    "\n",
    "- **Fuzzy matching**: Use `--max-mismatches` to allow a specific number of mismatches in barcode detection\n",
    "- **Paired-end FASTQ files**: Use `--fastq1` and `--fastq2` to process paired-end FASTQ files\n",
    "- **Softclipped regions**: Use `--search-softclipped` to search in softclipped regions of BAM alignments\n",
    "- **Both reads**: Use `--search-both-reads` to search for barcodes in both reads of paired FASTQ files\n",
    "- **Merge orientations**: Use `--merge-orientations` to create combined output files for different orientations\n",
    "- **Output compression**: Use `--no-compress` to disable compression for FASTQ output files\n",
    "- **Verbose logging**: Use `--verbose` to enable detailed logging\n",
    "\n",
    "For a complete list of options, run `barcodeseqkit --help`."
   ]
  },
  {
   "cell_type": "markdown",
   "metadata": {},
   "source": [
    "## Library Structure\n",
    "\n",
    "BarcodeSeqKit has been redesigned with a simplified, modular structure:\n",
    "\n",
    "1. **Core Module** (`00_core.ipynb`):\n",
    "   - Core data structures and enumerations\n",
    "   - Configuration handling\n",
    "   - Statistics tracking\n",
    "\n",
    "2. **Sequence Utilities** (`01_sequence_utils.ipynb`):\n",
    "   - Sequence manipulation functions\n",
    "   - Barcode detection algorithms\n",
    "   - Classification utilities\n",
    "\n",
    "3. **BAM Processing** (`02_bam_processing.ipynb`):\n",
    "   - BAM file handling\n",
    "   - Barcode extraction from BAM alignments\n",
    "   - Softclipped region analysis\n",
    "\n",
    "4. **FASTQ Processing** (`03_fastq_processing.ipynb`):\n",
    "   - FASTQ file handling\n",
    "   - Paired-end read processing\n",
    "   - Output file management\n",
    "\n",
    "5. **Command-Line Interface** (`04_cli.ipynb`):\n",
    "   - Argument parsing\n",
    "   - Configuration setup\n",
    "   - Main entry point"
   ]
  },
  {
   "cell_type": "markdown",
   "metadata": {},
   "source": [
    "## Conclusion\n",
    "\n",
    "BarcodeSeqKit provides a flexible and efficient way to extract and classify sequences based on barcode presence. Whether you're working with BAM or FASTQ files, single or multiple barcodes, BarcodeSeqKit offers a straightforward interface for your barcode extraction needs.\n",
    "\n",
    "The library features:\n",
    "- A simplified, direct design that's easy to understand and use\n",
    "- Comprehensive support for both BAM and FASTQ file formats\n",
    "- Flexible barcode configuration options\n",
    "- Detailed extraction statistics\n",
    "- Both command-line and programmatic interfaces\n",
    "\n",
    "For more detailed information, check out the documentation for each module."
   ]
  }
 ],
 "metadata": {
  "kernelspec": {
   "display_name": "python3",
   "language": "python",
   "name": "python3"
  }
 },
 "nbformat": 4,
 "nbformat_minor": 4
}
