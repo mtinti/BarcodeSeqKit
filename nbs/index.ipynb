{
 "cells": [
  {
   "cell_type": "markdown",
   "metadata": {},
   "source": [
    "# BarcodeSeqKit\n",
    "\n",
    "> Extract and classify sequences based on barcode presence in BAM and FASTQ files"
   ]
  },
  {
   "cell_type": "markdown",
   "metadata": {},
   "source": [
    "## Overview\n",
    "\n",
    "BarcodeSeqKit is a Python library for extracting and classifying sequencing reads based on the presence of specific barcode sequences. It supports both BAM and FASTQ file formats and provides flexible options for barcode matching and output generation."
   ]
  },
  {
   "cell_type": "markdown",
   "metadata": {},
   "source": [
    "## Installation\n",
    "\n",
    "You can install the package via pip:\n",
    "\n",
    "```bash\n",
    "pip install barcodeseqkit\n",
    "```\n",
    "\n",
    "Or directly from the repository:\n",
    "\n",
    "```bash\n",
    "pip install git+https://github.com/username/BarcodeSeqKit.git\n",
    "```"
   ]
  },
  {
   "cell_type": "markdown",
   "metadata": {},
   "source": [
    "## Usage\n",
    "\n",
    "BarcodeSeqKit can be used as a Python library or as a command-line tool. Below, we'll demonstrate both usage patterns."
   ]
  },
  {
   "cell_type": "markdown",
   "metadata": {},
   "source": [
    "### Command-line Usage\n",
    "\n",
    "BarcodeSeqKit provides a command-line interface through the `barcodeseqkit` command. Here are the basic arguments:\n",
    "\n",
    "```\n",
    "usage: barcodeseqkit [-h] [--bam BAM | --fastq1 FASTQ1 | --fastq-dir FASTQ_DIR] [--fastq2 FASTQ2]\n",
    "                       [--barcode-config BARCODE_CONFIG | --barcode BARCODE | --barcode5 BARCODE5] [--barcode3 BARCODE3]\n",
    "                       [--max-mismatches MAX_MISMATCHES] --output-prefix OUTPUT_PREFIX\n",
    "                       [--output-dir OUTPUT_DIR] [--discard-unmatched]\n",
    "                       [--search-both-reads] [--verbose] [--log-file LOG_FILE]\n",
    "```"
   ]
  },
  {
   "cell_type": "markdown",
   "metadata": {},
   "source": [
    "#### Single Barcode Example\n",
    "\n",
    "When you have a single barcode sequence, you can use the `--barcode` option. This creates two output files with reads matching the barcode in forward orientation (`barcode_orientFR`) and reverse complement orientation (`barcode_orientRC`).\n",
    "\n",
    "Let's run an example using the test BAM file provided with the package:"
   ]
  },
  {
   "cell_type": "markdown",
   "metadata": {},
   "source": [
    "```python\n",
    "barcodeseqkit --bam ../tests/test.bam \\\n",
    "--barcode CTGACTCCTTAAGGGCC --output-prefix test_out_1 \\\n",
    "--output-dir ../tests/test_out_1\n",
    "```"
   ]
  },
  {
   "cell_type": "markdown",
   "metadata": {},
   "source": [
    "This command will:\n",
    "1. Process the BAM file at `tests/test.bam`\n",
    "2. Search for the barcode sequence `CTGACTCCTTAAGGGCC` (and its reverse complement)\n",
    "3. Create the following output files in the `tests/test_out_1` directory:\n",
    "   - `test_out_1_barcode_orientFR.bam`: Reads with the barcode in forward orientation\n",
    "   - `test_out_1_barcode_orientRC.bam`: Reads with the barcode in reverse complement orientation\n",
    "   - `test_out_1_noBarcode.bam`: Reads without the barcode\n",
    "   - `test_out_1_extraction_stats.json` and `test_out_1_extraction_stats.tsv`: Extraction statistics"
   ]
  },
  {
   "cell_type": "markdown",
   "metadata": {},
   "source": [
    "#### Dual Barcode Example\n",
    "\n",
    "When you have two barcode sequences with specific locations (5' and 3'), you can use the `--barcode5` and `--barcode3` options. This creates four output files for all combinations of barcode locations and orientations.\n",
    "\n",
    "Let's run an example with both 5' and 3' barcodes:"
   ]
  },
  {
   "cell_type": "markdown",
   "metadata": {},
   "source": [
    "```python\n",
    "!barcodeseqkit --bam ../tests/test.bam \\\n",
    "--barcode5 CTGACTCCTTAAGGGCC \\\n",
    "--barcode3 TAACTGAGGCCGGC \\\n",
    "--output-prefix test_out_2 --output-dir ../tests/test_out_2\n",
    "```"
   ]
  },
  {
   "cell_type": "markdown",
   "metadata": {},
   "source": [
    "This command will:\n",
    "1. Process the BAM file at `tests/test.bam`\n",
    "2. Search for the 5' barcode sequence `CTGACTCCTTAAGGGCC` and the 3' barcode sequence `TAACTGAGGCCGGC` (and their reverse complements)\n",
    "3. Create the following output files in the `tests/test_out_2` directory:\n",
    "   - `test_out_2_barcode5_orientFR.bam`: Reads with the 5' barcode in forward orientation\n",
    "   - `test_out_2_barcode5_orientRC.bam`: Reads with the 5' barcode in reverse complement orientation\n",
    "   - `test_out_2_barcode3_orientFR.bam`: Reads with the 3' barcode in forward orientation\n",
    "   - `test_out_2_barcode3_orientRC.bam`: Reads with the 3' barcode in reverse complement orientation\n",
    "   - `test_out_2_noBarcode.bam`: Reads without any barcode\n",
    "   - `test_out_2_extraction_stats.json` and `test_out_2_extraction_stats.tsv`: Extraction statistics"
   ]
  },
  {
   "cell_type": "markdown",
   "metadata": {},
   "source": [
    "## Examining Extraction Statistics\n",
    "\n",
    "Let's examine the extraction statistics from both examples. First, we'll load the necessary libraries:"
   ]
  },
  {
   "cell_type": "code",
   "execution_count": null,
   "metadata": {},
   "outputs": [
    {
     "name": "stderr",
     "output_type": "stream",
     "text": [
      "/Users/MTinti/miniconda3/envs/work3/lib/python3.10/site-packages/pandas/core/arrays/masked.py:60: UserWarning: Pandas requires version '1.3.6' or newer of 'bottleneck' (version '1.3.4' currently installed).\n",
      "  from pandas.core import (\n"
     ]
    }
   ],
   "source": [
    "import pandas as pd\n",
    "import json\n",
    "import os"
   ]
  },
  {
   "cell_type": "markdown",
   "metadata": {},
   "source": [
    "### Single Barcode Statistics\n",
    "\n",
    "Let's load and display the statistics for the single barcode example:"
   ]
  },
  {
   "cell_type": "code",
   "execution_count": null,
   "metadata": {},
   "outputs": [
    {
     "data": {
      "text/html": [
       "<div>\n",
       "<style scoped>\n",
       "    .dataframe tbody tr th:only-of-type {\n",
       "        vertical-align: middle;\n",
       "    }\n",
       "\n",
       "    .dataframe tbody tr th {\n",
       "        vertical-align: top;\n",
       "    }\n",
       "\n",
       "    .dataframe thead th {\n",
       "        text-align: right;\n",
       "    }\n",
       "</style>\n",
       "<table border=\"1\" class=\"dataframe\">\n",
       "  <thead>\n",
       "    <tr style=\"text-align: right;\">\n",
       "      <th></th>\n",
       "      <th>Metric</th>\n",
       "      <th>Value</th>\n",
       "    </tr>\n",
       "  </thead>\n",
       "  <tbody>\n",
       "    <tr>\n",
       "      <th>0</th>\n",
       "      <td>TotalReads</td>\n",
       "      <td>498</td>\n",
       "    </tr>\n",
       "    <tr>\n",
       "      <th>1</th>\n",
       "      <td>TotalBarcodeMatches</td>\n",
       "      <td>10</td>\n",
       "    </tr>\n",
       "    <tr>\n",
       "      <th>2</th>\n",
       "      <td>NoBarcodeCount</td>\n",
       "      <td>481</td>\n",
       "    </tr>\n",
       "    <tr>\n",
       "      <th>3</th>\n",
       "      <td>MatchRate</td>\n",
       "      <td>0.0201</td>\n",
       "    </tr>\n",
       "    <tr>\n",
       "      <th>4</th>\n",
       "      <td>Barcode</td>\n",
       "      <td>Count</td>\n",
       "    </tr>\n",
       "    <tr>\n",
       "      <th>5</th>\n",
       "      <td>generic</td>\n",
       "      <td>10</td>\n",
       "    </tr>\n",
       "    <tr>\n",
       "      <th>6</th>\n",
       "      <td>Orientation</td>\n",
       "      <td>Count</td>\n",
       "    </tr>\n",
       "    <tr>\n",
       "      <th>7</th>\n",
       "      <td>FR</td>\n",
       "      <td>7</td>\n",
       "    </tr>\n",
       "    <tr>\n",
       "      <th>8</th>\n",
       "      <td>RC</td>\n",
       "      <td>3</td>\n",
       "    </tr>\n",
       "    <tr>\n",
       "      <th>9</th>\n",
       "      <td>Category</td>\n",
       "      <td>Count</td>\n",
       "    </tr>\n",
       "    <tr>\n",
       "      <th>10</th>\n",
       "      <td>barcode_orientFR</td>\n",
       "      <td>7</td>\n",
       "    </tr>\n",
       "    <tr>\n",
       "      <th>11</th>\n",
       "      <td>barcode_orientRC</td>\n",
       "      <td>3</td>\n",
       "    </tr>\n",
       "  </tbody>\n",
       "</table>\n",
       "</div>"
      ],
      "text/plain": [
       "                 Metric   Value\n",
       "0            TotalReads     498\n",
       "1   TotalBarcodeMatches      10\n",
       "2        NoBarcodeCount     481\n",
       "3             MatchRate  0.0201\n",
       "4               Barcode   Count\n",
       "5               generic      10\n",
       "6           Orientation   Count\n",
       "7                    FR       7\n",
       "8                    RC       3\n",
       "9              Category   Count\n",
       "10     barcode_orientFR       7\n",
       "11     barcode_orientRC       3"
      ]
     },
     "execution_count": null,
     "metadata": {},
     "output_type": "execute_result"
    }
   ],
   "source": [
    "df = pd.read_csv('../tests/test_out_1/test_out_1_extraction_stats.tsv',sep='\\t')\n",
    "df"
   ]
  },
  {
   "cell_type": "markdown",
   "metadata": {},
   "source": [
    "### Dual Barcode Statistics\n",
    "\n",
    "Now let's examine the statistics for the dual barcode example:"
   ]
  },
  {
   "cell_type": "code",
   "execution_count": null,
   "metadata": {},
   "outputs": [
    {
     "data": {
      "text/html": [
       "<div>\n",
       "<style scoped>\n",
       "    .dataframe tbody tr th:only-of-type {\n",
       "        vertical-align: middle;\n",
       "    }\n",
       "\n",
       "    .dataframe tbody tr th {\n",
       "        vertical-align: top;\n",
       "    }\n",
       "\n",
       "    .dataframe thead th {\n",
       "        text-align: right;\n",
       "    }\n",
       "</style>\n",
       "<table border=\"1\" class=\"dataframe\">\n",
       "  <thead>\n",
       "    <tr style=\"text-align: right;\">\n",
       "      <th></th>\n",
       "      <th>Metric</th>\n",
       "      <th>Value</th>\n",
       "    </tr>\n",
       "  </thead>\n",
       "  <tbody>\n",
       "    <tr>\n",
       "      <th>0</th>\n",
       "      <td>TotalReads</td>\n",
       "      <td>498</td>\n",
       "    </tr>\n",
       "    <tr>\n",
       "      <th>1</th>\n",
       "      <td>TotalBarcodeMatches</td>\n",
       "      <td>18</td>\n",
       "    </tr>\n",
       "    <tr>\n",
       "      <th>2</th>\n",
       "      <td>NoBarcodeCount</td>\n",
       "      <td>470</td>\n",
       "    </tr>\n",
       "    <tr>\n",
       "      <th>3</th>\n",
       "      <td>MatchRate</td>\n",
       "      <td>0.0361</td>\n",
       "    </tr>\n",
       "    <tr>\n",
       "      <th>4</th>\n",
       "      <td>Barcode</td>\n",
       "      <td>Count</td>\n",
       "    </tr>\n",
       "    <tr>\n",
       "      <th>5</th>\n",
       "      <td>5</td>\n",
       "      <td>10</td>\n",
       "    </tr>\n",
       "    <tr>\n",
       "      <th>6</th>\n",
       "      <td>3</td>\n",
       "      <td>8</td>\n",
       "    </tr>\n",
       "    <tr>\n",
       "      <th>7</th>\n",
       "      <td>Orientation</td>\n",
       "      <td>Count</td>\n",
       "    </tr>\n",
       "    <tr>\n",
       "      <th>8</th>\n",
       "      <td>FR</td>\n",
       "      <td>10</td>\n",
       "    </tr>\n",
       "    <tr>\n",
       "      <th>9</th>\n",
       "      <td>RC</td>\n",
       "      <td>8</td>\n",
       "    </tr>\n",
       "    <tr>\n",
       "      <th>10</th>\n",
       "      <td>Category</td>\n",
       "      <td>Count</td>\n",
       "    </tr>\n",
       "    <tr>\n",
       "      <th>11</th>\n",
       "      <td>barcode5_orientFR</td>\n",
       "      <td>7</td>\n",
       "    </tr>\n",
       "    <tr>\n",
       "      <th>12</th>\n",
       "      <td>barcode3_orientFR</td>\n",
       "      <td>3</td>\n",
       "    </tr>\n",
       "    <tr>\n",
       "      <th>13</th>\n",
       "      <td>barcode3_orientRC</td>\n",
       "      <td>5</td>\n",
       "    </tr>\n",
       "    <tr>\n",
       "      <th>14</th>\n",
       "      <td>barcode5_orientRC</td>\n",
       "      <td>3</td>\n",
       "    </tr>\n",
       "  </tbody>\n",
       "</table>\n",
       "</div>"
      ],
      "text/plain": [
       "                 Metric   Value\n",
       "0            TotalReads     498\n",
       "1   TotalBarcodeMatches      18\n",
       "2        NoBarcodeCount     470\n",
       "3             MatchRate  0.0361\n",
       "4               Barcode   Count\n",
       "5                     5      10\n",
       "6                     3       8\n",
       "7           Orientation   Count\n",
       "8                    FR      10\n",
       "9                    RC       8\n",
       "10             Category   Count\n",
       "11    barcode5_orientFR       7\n",
       "12    barcode3_orientFR       3\n",
       "13    barcode3_orientRC       5\n",
       "14    barcode5_orientRC       3"
      ]
     },
     "execution_count": null,
     "metadata": {},
     "output_type": "execute_result"
    }
   ],
   "source": [
    "df = pd.read_csv('../tests/test_out_2/test_out_2_extraction_stats.tsv',sep='\\t')\n",
    "df"
   ]
  },
  {
   "cell_type": "markdown",
   "metadata": {},
   "source": [
    "## Programmatic Usage\n",
    "\n",
    "You can also use BarcodeSeqKit programmatically in your Python code. Here's an example:"
   ]
  },
  {
   "cell_type": "code",
   "execution_count": null,
   "metadata": {},
   "outputs": [],
   "source": []
  },
  {
   "cell_type": "code",
   "execution_count": null,
   "metadata": {},
   "outputs": [],
   "source": [
    "#!samtools sort -n -o ../tests/test_sorted_by_name.bam ../tests/test.bam\n",
    "#!bamToFastq -i ../tests/test_sorted_by_name.bam -fq ../tests/test.1.fastq -fq2 ../tests/test.2.fastq\n",
    "#!gzip ../tests/test.2.fastq"
   ]
  },
  {
   "cell_type": "code",
   "execution_count": null,
   "metadata": {},
   "outputs": [],
   "source": []
  },
  {
   "cell_type": "code",
   "execution_count": null,
   "metadata": {},
   "outputs": [
    {
     "name": "stderr",
     "output_type": "stream",
     "text": [
      "2025-03-14 10:00:29,646 - BarcodeSeqKit - INFO - Extraction complete: 18 matches in 498 reads\n",
      "2025-03-14 10:00:29,740 - BarcodeSeqKit - INFO - Statistics saved to ../tests/programmatic_out/programmatic_example_extraction_stats.json and ../tests/programmatic_out/programmatic_example_extraction_stats.tsv\n"
     ]
    },
    {
     "name": "stdout",
     "output_type": "stream",
     "text": [
      "Extraction complete: 18 matches in 498 aligments\n"
     ]
    }
   ],
   "source": [
    "from BarcodeSeqKit.core import BarcodeConfig, ExtractorConfig, ExtractorFactory, BarcodeLocationType\n",
    "\n",
    "# Define barcode configurations\n",
    "barcode5 = BarcodeConfig(\n",
    "    sequence=\"CTGACTCCTTAAGGGCC\",\n",
    "    location=BarcodeLocationType.FIVE_PRIME,\n",
    "    name=\"5\",\n",
    "    description=\"5' barcode sequence\"\n",
    ")\n",
    "\n",
    "barcode3 = BarcodeConfig(\n",
    "    sequence=\"TAACTGAGGCCGGC\",\n",
    "    location=BarcodeLocationType.THREE_PRIME,\n",
    "    name=\"3\",\n",
    "    description=\"3' barcode sequence\"\n",
    ")\n",
    "\n",
    "# Create extractor configuration\n",
    "config = ExtractorConfig(\n",
    "    barcodes=[barcode5, barcode3],\n",
    "    output_prefix=\"programmatic_example\",\n",
    "    output_dir=\"../tests/programmatic_out\",\n",
    "    keep_unmatched=True,\n",
    "    verbose=True\n",
    ")\n",
    "\n",
    "# Create the extractor\n",
    "extractor = ExtractorFactory.create_extractor(config, \"../tests/test.bam\")\n",
    "stats = extractor.extract()\n",
    "print(f\"Extraction complete: {stats.total_barcode_matches} matches in {stats.total_reads} aligments\")\n",
    "#extractor"
   ]
  },
  {
   "cell_type": "code",
   "execution_count": null,
   "metadata": {},
   "outputs": [],
   "source": []
  },
  {
   "cell_type": "code",
   "execution_count": null,
   "metadata": {},
   "outputs": [
    {
     "data": {
      "application/vnd.jupyter.widget-view+json": {
       "model_id": "63bf4c93e9a741038091ba8710841619",
       "version_major": 2,
       "version_minor": 0
      },
      "text/plain": [
       "0it [00:00, ?it/s]"
      ]
     },
     "metadata": {},
     "output_type": "display_data"
    },
    {
     "name": "stderr",
     "output_type": "stream",
     "text": [
      "2025-03-14 10:00:42,365 - BarcodeSeqKit - INFO - Statistics saved to ../tests/programmatic_out_fastq/res_extraction_stats.json and ../tests/programmatic_out_fastq/res_extraction_stats.tsv\n",
      "2025-03-14 10:00:42,365 - BarcodeSeqKit - INFO - Statistics saved to ../tests/programmatic_out_fastq/res_extraction_stats.json and ../tests/programmatic_out_fastq/res_extraction_stats.tsv\n"
     ]
    },
    {
     "name": "stdout",
     "output_type": "stream",
     "text": [
      "Extraction complete: 18 matches in 247 reads\n"
     ]
    }
   ],
   "source": [
    "# Initialize the extractor\n",
    "from BarcodeSeqKit.fastq_processing import FastqExtractor\n",
    "extractor = FastqExtractor(\n",
    "    barcodes=[barcode5, barcode3],\n",
    "    output_prefix=\"res\",\n",
    "    fastq_files=['../tests/test.1.fastq.gz', '../tests/test.2.fastq.gz'],\n",
    "    output_dir='../tests/programmatic_out_fastq',\n",
    "    verbose=True\n",
    ")\n",
    "stats = extractor.extract()\n",
    "# Run extraction (commented out to avoid running it by default)\n",
    "#stats = extractor.extract()\n",
    "print(f\"Extraction complete: {stats.total_barcode_matches} matches in {stats.total_reads} reads\")"
   ]
  },
  {
   "cell_type": "markdown",
   "metadata": {},
   "source": [
    "## Advanced Options\n",
    "\n",
    "BarcodeSeqKit provides several advanced options for barcode extraction:\n",
    "\n",
    "- **Fuzzy matching**: Use `--max-mismatches` to allow a specific number of mismatches in barcode detection.\n",
    "- **Paired-end FASTQ files**: Use `--fastq1` and `--fastq2` to process paired-end FASTQ files.\n",
    "- **Discarding unmatched reads**: Use `--discard-unmatched` to exclude reads without barcode matches from the output.\n",
    "\n",
    "For more options, run `barcodeseqkit --help`."
   ]
  },
  {
   "cell_type": "markdown",
   "metadata": {},
   "source": [
    "## Conclusion\n",
    "\n",
    "BarcodeSeqKit provides a flexible and efficient way to extract and classify sequences based on barcode presence. Whether you're working with BAM or FASTQ files, single or multiple barcodes, BarcodeSeqKit offers a straightforward interface for your barcode extraction needs."
   ]
  }
 ],
 "metadata": {
  "kernelspec": {
   "display_name": "python3",
   "language": "python",
   "name": "python3"
  }
 },
 "nbformat": 4,
 "nbformat_minor": 4
}
